{
  "nbformat": 4,
  "nbformat_minor": 0,
  "metadata": {
    "colab": {
      "provenance": []
    },
    "kernelspec": {
      "name": "python3",
      "display_name": "Python 3"
    },
    "language_info": {
      "name": "python"
    }
  },
  "cells": [
    {
      "cell_type": "markdown",
      "source": [
        "#1.WORLD CUP MATCHES"
      ],
      "metadata": {
        "id": "Y-xNrV3Z9mOU"
      }
    },
    {
      "cell_type": "code",
      "execution_count": null,
      "metadata": {
        "id": "sL-R8fUQ7huf"
      },
      "outputs": [],
      "source": [
        "import numpy as np\n",
        "import pandas as pd\n",
        "import matplotlib.pyplot as plt\n",
        "import seaborn as sns"
      ]
    },
    {
      "cell_type": "code",
      "source": [
        "data = pd.read_csv(\"/content/WorldCupMatches.csv\")\n",
        "df=pd.DataFrame(data)\n",
        "print(data)"
      ],
      "metadata": {
        "colab": {
          "base_uri": "https://localhost:8080/"
        },
        "id": "7YeZY_f685Y7",
        "outputId": "95de0056-bd52-481a-84e5-24b9699c55b8"
      },
      "execution_count": null,
      "outputs": [
        {
          "output_type": "stream",
          "name": "stdout",
          "text": [
            "        Year              Datetime    Stage         Stadium         City  \\\n",
            "0     1930.0  13 Jul 1930 - 15:00   Group 1         Pocitos  Montevideo    \n",
            "1     1930.0  13 Jul 1930 - 15:00   Group 4  Parque Central  Montevideo    \n",
            "2     1930.0  14 Jul 1930 - 12:45   Group 2  Parque Central  Montevideo    \n",
            "3     1930.0  14 Jul 1930 - 14:50   Group 3         Pocitos  Montevideo    \n",
            "4     1930.0  15 Jul 1930 - 16:00   Group 1  Parque Central  Montevideo    \n",
            "...      ...                   ...      ...             ...          ...   \n",
            "4567     NaN                   NaN      NaN             NaN          NaN   \n",
            "4568     NaN                   NaN      NaN             NaN          NaN   \n",
            "4569     NaN                   NaN      NaN             NaN          NaN   \n",
            "4570     NaN                   NaN      NaN             NaN          NaN   \n",
            "4571     NaN                   NaN      NaN             NaN          NaN   \n",
            "\n",
            "     Home Team Name  Home Team Goals  Away Team Goals Away Team Name  \\\n",
            "0            France              4.0              1.0         Mexico   \n",
            "1               USA              3.0              0.0        Belgium   \n",
            "2        Yugoslavia              2.0              1.0         Brazil   \n",
            "3           Romania              3.0              1.0           Peru   \n",
            "4         Argentina              1.0              0.0         France   \n",
            "...             ...              ...              ...            ...   \n",
            "4567            NaN              NaN              NaN            NaN   \n",
            "4568            NaN              NaN              NaN            NaN   \n",
            "4569            NaN              NaN              NaN            NaN   \n",
            "4570            NaN              NaN              NaN            NaN   \n",
            "4571            NaN              NaN              NaN            NaN   \n",
            "\n",
            "     Win conditions  Attendance  Half-time Home Goals  Half-time Away Goals  \\\n",
            "0                        4444.0                   3.0                   0.0   \n",
            "1                       18346.0                   2.0                   0.0   \n",
            "2                       24059.0                   2.0                   0.0   \n",
            "3                        2549.0                   1.0                   0.0   \n",
            "4                       23409.0                   0.0                   0.0   \n",
            "...             ...         ...                   ...                   ...   \n",
            "4567            NaN         NaN                   NaN                   NaN   \n",
            "4568            NaN         NaN                   NaN                   NaN   \n",
            "4569            NaN         NaN                   NaN                   NaN   \n",
            "4570            NaN         NaN                   NaN                   NaN   \n",
            "4571            NaN         NaN                   NaN                   NaN   \n",
            "\n",
            "                     Referee               Assistant 1  \\\n",
            "0     LOMBARDI Domingo (URU)     CRISTOPHE Henry (BEL)   \n",
            "1          MACIAS Jose (ARG)  MATEUCCI Francisco (URU)   \n",
            "2        TEJADA Anibal (URU)   VALLARINO Ricardo (URU)   \n",
            "3      WARNKEN Alberto (CHI)       LANGENUS Jean (BEL)   \n",
            "4        REGO Gilberto (BRA)      SAUCEDO Ulises (BOL)   \n",
            "...                      ...                       ...   \n",
            "4567                     NaN                       NaN   \n",
            "4568                     NaN                       NaN   \n",
            "4569                     NaN                       NaN   \n",
            "4570                     NaN                       NaN   \n",
            "4571                     NaN                       NaN   \n",
            "\n",
            "                     Assistant 2  RoundID  MatchID Home Team Initials  \\\n",
            "0            REGO Gilberto (BRA)    201.0   1096.0                FRA   \n",
            "1          WARNKEN Alberto (CHI)    201.0   1090.0                USA   \n",
            "2            BALWAY Thomas (FRA)    201.0   1093.0                YUG   \n",
            "3       MATEUCCI Francisco (URU)    201.0   1098.0                ROU   \n",
            "4     RADULESCU Constantin (ROU)    201.0   1085.0                ARG   \n",
            "...                          ...      ...      ...                ...   \n",
            "4567                         NaN      NaN      NaN                NaN   \n",
            "4568                         NaN      NaN      NaN                NaN   \n",
            "4569                         NaN      NaN      NaN                NaN   \n",
            "4570                         NaN      NaN      NaN                NaN   \n",
            "4571                         NaN      NaN      NaN                NaN   \n",
            "\n",
            "     Away Team Initials  \n",
            "0                   MEX  \n",
            "1                   BEL  \n",
            "2                   BRA  \n",
            "3                   PER  \n",
            "4                   FRA  \n",
            "...                 ...  \n",
            "4567                NaN  \n",
            "4568                NaN  \n",
            "4569                NaN  \n",
            "4570                NaN  \n",
            "4571                NaN  \n",
            "\n",
            "[4572 rows x 20 columns]\n"
          ]
        }
      ]
    },
    {
      "cell_type": "code",
      "source": [
        "data.head()"
      ],
      "metadata": {
        "colab": {
          "base_uri": "https://localhost:8080/",
          "height": 451
        },
        "id": "hlmNnZsZ95NT",
        "outputId": "7b827817-2953-4c1f-8561-56141dfc04b2"
      },
      "execution_count": null,
      "outputs": [
        {
          "output_type": "execute_result",
          "data": {
            "text/plain": [
              "     Year              Datetime    Stage         Stadium         City  \\\n",
              "0  1930.0  13 Jul 1930 - 15:00   Group 1         Pocitos  Montevideo    \n",
              "1  1930.0  13 Jul 1930 - 15:00   Group 4  Parque Central  Montevideo    \n",
              "2  1930.0  14 Jul 1930 - 12:45   Group 2  Parque Central  Montevideo    \n",
              "3  1930.0  14 Jul 1930 - 14:50   Group 3         Pocitos  Montevideo    \n",
              "4  1930.0  15 Jul 1930 - 16:00   Group 1  Parque Central  Montevideo    \n",
              "\n",
              "  Home Team Name  Home Team Goals  Away Team Goals Away Team Name  \\\n",
              "0         France              4.0              1.0         Mexico   \n",
              "1            USA              3.0              0.0        Belgium   \n",
              "2     Yugoslavia              2.0              1.0         Brazil   \n",
              "3        Romania              3.0              1.0           Peru   \n",
              "4      Argentina              1.0              0.0         France   \n",
              "\n",
              "  Win conditions  Attendance  Half-time Home Goals  Half-time Away Goals  \\\n",
              "0                     4444.0                   3.0                   0.0   \n",
              "1                    18346.0                   2.0                   0.0   \n",
              "2                    24059.0                   2.0                   0.0   \n",
              "3                     2549.0                   1.0                   0.0   \n",
              "4                    23409.0                   0.0                   0.0   \n",
              "\n",
              "                  Referee               Assistant 1  \\\n",
              "0  LOMBARDI Domingo (URU)     CRISTOPHE Henry (BEL)   \n",
              "1       MACIAS Jose (ARG)  MATEUCCI Francisco (URU)   \n",
              "2     TEJADA Anibal (URU)   VALLARINO Ricardo (URU)   \n",
              "3   WARNKEN Alberto (CHI)       LANGENUS Jean (BEL)   \n",
              "4     REGO Gilberto (BRA)      SAUCEDO Ulises (BOL)   \n",
              "\n",
              "                  Assistant 2  RoundID  MatchID Home Team Initials  \\\n",
              "0         REGO Gilberto (BRA)    201.0   1096.0                FRA   \n",
              "1       WARNKEN Alberto (CHI)    201.0   1090.0                USA   \n",
              "2         BALWAY Thomas (FRA)    201.0   1093.0                YUG   \n",
              "3    MATEUCCI Francisco (URU)    201.0   1098.0                ROU   \n",
              "4  RADULESCU Constantin (ROU)    201.0   1085.0                ARG   \n",
              "\n",
              "  Away Team Initials  \n",
              "0                MEX  \n",
              "1                BEL  \n",
              "2                BRA  \n",
              "3                PER  \n",
              "4                FRA  "
            ],
            "text/html": [
              "\n",
              "  <div id=\"df-5620a78f-c935-439e-a378-550cddbe4879\" class=\"colab-df-container\">\n",
              "    <div>\n",
              "<style scoped>\n",
              "    .dataframe tbody tr th:only-of-type {\n",
              "        vertical-align: middle;\n",
              "    }\n",
              "\n",
              "    .dataframe tbody tr th {\n",
              "        vertical-align: top;\n",
              "    }\n",
              "\n",
              "    .dataframe thead th {\n",
              "        text-align: right;\n",
              "    }\n",
              "</style>\n",
              "<table border=\"1\" class=\"dataframe\">\n",
              "  <thead>\n",
              "    <tr style=\"text-align: right;\">\n",
              "      <th></th>\n",
              "      <th>Year</th>\n",
              "      <th>Datetime</th>\n",
              "      <th>Stage</th>\n",
              "      <th>Stadium</th>\n",
              "      <th>City</th>\n",
              "      <th>Home Team Name</th>\n",
              "      <th>Home Team Goals</th>\n",
              "      <th>Away Team Goals</th>\n",
              "      <th>Away Team Name</th>\n",
              "      <th>Win conditions</th>\n",
              "      <th>Attendance</th>\n",
              "      <th>Half-time Home Goals</th>\n",
              "      <th>Half-time Away Goals</th>\n",
              "      <th>Referee</th>\n",
              "      <th>Assistant 1</th>\n",
              "      <th>Assistant 2</th>\n",
              "      <th>RoundID</th>\n",
              "      <th>MatchID</th>\n",
              "      <th>Home Team Initials</th>\n",
              "      <th>Away Team Initials</th>\n",
              "    </tr>\n",
              "  </thead>\n",
              "  <tbody>\n",
              "    <tr>\n",
              "      <th>0</th>\n",
              "      <td>1930.0</td>\n",
              "      <td>13 Jul 1930 - 15:00</td>\n",
              "      <td>Group 1</td>\n",
              "      <td>Pocitos</td>\n",
              "      <td>Montevideo</td>\n",
              "      <td>France</td>\n",
              "      <td>4.0</td>\n",
              "      <td>1.0</td>\n",
              "      <td>Mexico</td>\n",
              "      <td></td>\n",
              "      <td>4444.0</td>\n",
              "      <td>3.0</td>\n",
              "      <td>0.0</td>\n",
              "      <td>LOMBARDI Domingo (URU)</td>\n",
              "      <td>CRISTOPHE Henry (BEL)</td>\n",
              "      <td>REGO Gilberto (BRA)</td>\n",
              "      <td>201.0</td>\n",
              "      <td>1096.0</td>\n",
              "      <td>FRA</td>\n",
              "      <td>MEX</td>\n",
              "    </tr>\n",
              "    <tr>\n",
              "      <th>1</th>\n",
              "      <td>1930.0</td>\n",
              "      <td>13 Jul 1930 - 15:00</td>\n",
              "      <td>Group 4</td>\n",
              "      <td>Parque Central</td>\n",
              "      <td>Montevideo</td>\n",
              "      <td>USA</td>\n",
              "      <td>3.0</td>\n",
              "      <td>0.0</td>\n",
              "      <td>Belgium</td>\n",
              "      <td></td>\n",
              "      <td>18346.0</td>\n",
              "      <td>2.0</td>\n",
              "      <td>0.0</td>\n",
              "      <td>MACIAS Jose (ARG)</td>\n",
              "      <td>MATEUCCI Francisco (URU)</td>\n",
              "      <td>WARNKEN Alberto (CHI)</td>\n",
              "      <td>201.0</td>\n",
              "      <td>1090.0</td>\n",
              "      <td>USA</td>\n",
              "      <td>BEL</td>\n",
              "    </tr>\n",
              "    <tr>\n",
              "      <th>2</th>\n",
              "      <td>1930.0</td>\n",
              "      <td>14 Jul 1930 - 12:45</td>\n",
              "      <td>Group 2</td>\n",
              "      <td>Parque Central</td>\n",
              "      <td>Montevideo</td>\n",
              "      <td>Yugoslavia</td>\n",
              "      <td>2.0</td>\n",
              "      <td>1.0</td>\n",
              "      <td>Brazil</td>\n",
              "      <td></td>\n",
              "      <td>24059.0</td>\n",
              "      <td>2.0</td>\n",
              "      <td>0.0</td>\n",
              "      <td>TEJADA Anibal (URU)</td>\n",
              "      <td>VALLARINO Ricardo (URU)</td>\n",
              "      <td>BALWAY Thomas (FRA)</td>\n",
              "      <td>201.0</td>\n",
              "      <td>1093.0</td>\n",
              "      <td>YUG</td>\n",
              "      <td>BRA</td>\n",
              "    </tr>\n",
              "    <tr>\n",
              "      <th>3</th>\n",
              "      <td>1930.0</td>\n",
              "      <td>14 Jul 1930 - 14:50</td>\n",
              "      <td>Group 3</td>\n",
              "      <td>Pocitos</td>\n",
              "      <td>Montevideo</td>\n",
              "      <td>Romania</td>\n",
              "      <td>3.0</td>\n",
              "      <td>1.0</td>\n",
              "      <td>Peru</td>\n",
              "      <td></td>\n",
              "      <td>2549.0</td>\n",
              "      <td>1.0</td>\n",
              "      <td>0.0</td>\n",
              "      <td>WARNKEN Alberto (CHI)</td>\n",
              "      <td>LANGENUS Jean (BEL)</td>\n",
              "      <td>MATEUCCI Francisco (URU)</td>\n",
              "      <td>201.0</td>\n",
              "      <td>1098.0</td>\n",
              "      <td>ROU</td>\n",
              "      <td>PER</td>\n",
              "    </tr>\n",
              "    <tr>\n",
              "      <th>4</th>\n",
              "      <td>1930.0</td>\n",
              "      <td>15 Jul 1930 - 16:00</td>\n",
              "      <td>Group 1</td>\n",
              "      <td>Parque Central</td>\n",
              "      <td>Montevideo</td>\n",
              "      <td>Argentina</td>\n",
              "      <td>1.0</td>\n",
              "      <td>0.0</td>\n",
              "      <td>France</td>\n",
              "      <td></td>\n",
              "      <td>23409.0</td>\n",
              "      <td>0.0</td>\n",
              "      <td>0.0</td>\n",
              "      <td>REGO Gilberto (BRA)</td>\n",
              "      <td>SAUCEDO Ulises (BOL)</td>\n",
              "      <td>RADULESCU Constantin (ROU)</td>\n",
              "      <td>201.0</td>\n",
              "      <td>1085.0</td>\n",
              "      <td>ARG</td>\n",
              "      <td>FRA</td>\n",
              "    </tr>\n",
              "  </tbody>\n",
              "</table>\n",
              "</div>\n",
              "    <div class=\"colab-df-buttons\">\n",
              "\n",
              "  <div class=\"colab-df-container\">\n",
              "    <button class=\"colab-df-convert\" onclick=\"convertToInteractive('df-5620a78f-c935-439e-a378-550cddbe4879')\"\n",
              "            title=\"Convert this dataframe to an interactive table.\"\n",
              "            style=\"display:none;\">\n",
              "\n",
              "  <svg xmlns=\"http://www.w3.org/2000/svg\" height=\"24px\" viewBox=\"0 -960 960 960\">\n",
              "    <path d=\"M120-120v-720h720v720H120Zm60-500h600v-160H180v160Zm220 220h160v-160H400v160Zm0 220h160v-160H400v160ZM180-400h160v-160H180v160Zm440 0h160v-160H620v160ZM180-180h160v-160H180v160Zm440 0h160v-160H620v160Z\"/>\n",
              "  </svg>\n",
              "    </button>\n",
              "\n",
              "  <style>\n",
              "    .colab-df-container {\n",
              "      display:flex;\n",
              "      gap: 12px;\n",
              "    }\n",
              "\n",
              "    .colab-df-convert {\n",
              "      background-color: #E8F0FE;\n",
              "      border: none;\n",
              "      border-radius: 50%;\n",
              "      cursor: pointer;\n",
              "      display: none;\n",
              "      fill: #1967D2;\n",
              "      height: 32px;\n",
              "      padding: 0 0 0 0;\n",
              "      width: 32px;\n",
              "    }\n",
              "\n",
              "    .colab-df-convert:hover {\n",
              "      background-color: #E2EBFA;\n",
              "      box-shadow: 0px 1px 2px rgba(60, 64, 67, 0.3), 0px 1px 3px 1px rgba(60, 64, 67, 0.15);\n",
              "      fill: #174EA6;\n",
              "    }\n",
              "\n",
              "    .colab-df-buttons div {\n",
              "      margin-bottom: 4px;\n",
              "    }\n",
              "\n",
              "    [theme=dark] .colab-df-convert {\n",
              "      background-color: #3B4455;\n",
              "      fill: #D2E3FC;\n",
              "    }\n",
              "\n",
              "    [theme=dark] .colab-df-convert:hover {\n",
              "      background-color: #434B5C;\n",
              "      box-shadow: 0px 1px 3px 1px rgba(0, 0, 0, 0.15);\n",
              "      filter: drop-shadow(0px 1px 2px rgba(0, 0, 0, 0.3));\n",
              "      fill: #FFFFFF;\n",
              "    }\n",
              "  </style>\n",
              "\n",
              "    <script>\n",
              "      const buttonEl =\n",
              "        document.querySelector('#df-5620a78f-c935-439e-a378-550cddbe4879 button.colab-df-convert');\n",
              "      buttonEl.style.display =\n",
              "        google.colab.kernel.accessAllowed ? 'block' : 'none';\n",
              "\n",
              "      async function convertToInteractive(key) {\n",
              "        const element = document.querySelector('#df-5620a78f-c935-439e-a378-550cddbe4879');\n",
              "        const dataTable =\n",
              "          await google.colab.kernel.invokeFunction('convertToInteractive',\n",
              "                                                    [key], {});\n",
              "        if (!dataTable) return;\n",
              "\n",
              "        const docLinkHtml = 'Like what you see? Visit the ' +\n",
              "          '<a target=\"_blank\" href=https://colab.research.google.com/notebooks/data_table.ipynb>data table notebook</a>'\n",
              "          + ' to learn more about interactive tables.';\n",
              "        element.innerHTML = '';\n",
              "        dataTable['output_type'] = 'display_data';\n",
              "        await google.colab.output.renderOutput(dataTable, element);\n",
              "        const docLink = document.createElement('div');\n",
              "        docLink.innerHTML = docLinkHtml;\n",
              "        element.appendChild(docLink);\n",
              "      }\n",
              "    </script>\n",
              "  </div>\n",
              "\n",
              "\n",
              "<div id=\"df-7bf80948-ea44-4e8a-af43-136448fc8de3\">\n",
              "  <button class=\"colab-df-quickchart\" onclick=\"quickchart('df-7bf80948-ea44-4e8a-af43-136448fc8de3')\"\n",
              "            title=\"Suggest charts\"\n",
              "            style=\"display:none;\">\n",
              "\n",
              "<svg xmlns=\"http://www.w3.org/2000/svg\" height=\"24px\"viewBox=\"0 0 24 24\"\n",
              "     width=\"24px\">\n",
              "    <g>\n",
              "        <path d=\"M19 3H5c-1.1 0-2 .9-2 2v14c0 1.1.9 2 2 2h14c1.1 0 2-.9 2-2V5c0-1.1-.9-2-2-2zM9 17H7v-7h2v7zm4 0h-2V7h2v10zm4 0h-2v-4h2v4z\"/>\n",
              "    </g>\n",
              "</svg>\n",
              "  </button>\n",
              "\n",
              "<style>\n",
              "  .colab-df-quickchart {\n",
              "      --bg-color: #E8F0FE;\n",
              "      --fill-color: #1967D2;\n",
              "      --hover-bg-color: #E2EBFA;\n",
              "      --hover-fill-color: #174EA6;\n",
              "      --disabled-fill-color: #AAA;\n",
              "      --disabled-bg-color: #DDD;\n",
              "  }\n",
              "\n",
              "  [theme=dark] .colab-df-quickchart {\n",
              "      --bg-color: #3B4455;\n",
              "      --fill-color: #D2E3FC;\n",
              "      --hover-bg-color: #434B5C;\n",
              "      --hover-fill-color: #FFFFFF;\n",
              "      --disabled-bg-color: #3B4455;\n",
              "      --disabled-fill-color: #666;\n",
              "  }\n",
              "\n",
              "  .colab-df-quickchart {\n",
              "    background-color: var(--bg-color);\n",
              "    border: none;\n",
              "    border-radius: 50%;\n",
              "    cursor: pointer;\n",
              "    display: none;\n",
              "    fill: var(--fill-color);\n",
              "    height: 32px;\n",
              "    padding: 0;\n",
              "    width: 32px;\n",
              "  }\n",
              "\n",
              "  .colab-df-quickchart:hover {\n",
              "    background-color: var(--hover-bg-color);\n",
              "    box-shadow: 0 1px 2px rgba(60, 64, 67, 0.3), 0 1px 3px 1px rgba(60, 64, 67, 0.15);\n",
              "    fill: var(--button-hover-fill-color);\n",
              "  }\n",
              "\n",
              "  .colab-df-quickchart-complete:disabled,\n",
              "  .colab-df-quickchart-complete:disabled:hover {\n",
              "    background-color: var(--disabled-bg-color);\n",
              "    fill: var(--disabled-fill-color);\n",
              "    box-shadow: none;\n",
              "  }\n",
              "\n",
              "  .colab-df-spinner {\n",
              "    border: 2px solid var(--fill-color);\n",
              "    border-color: transparent;\n",
              "    border-bottom-color: var(--fill-color);\n",
              "    animation:\n",
              "      spin 1s steps(1) infinite;\n",
              "  }\n",
              "\n",
              "  @keyframes spin {\n",
              "    0% {\n",
              "      border-color: transparent;\n",
              "      border-bottom-color: var(--fill-color);\n",
              "      border-left-color: var(--fill-color);\n",
              "    }\n",
              "    20% {\n",
              "      border-color: transparent;\n",
              "      border-left-color: var(--fill-color);\n",
              "      border-top-color: var(--fill-color);\n",
              "    }\n",
              "    30% {\n",
              "      border-color: transparent;\n",
              "      border-left-color: var(--fill-color);\n",
              "      border-top-color: var(--fill-color);\n",
              "      border-right-color: var(--fill-color);\n",
              "    }\n",
              "    40% {\n",
              "      border-color: transparent;\n",
              "      border-right-color: var(--fill-color);\n",
              "      border-top-color: var(--fill-color);\n",
              "    }\n",
              "    60% {\n",
              "      border-color: transparent;\n",
              "      border-right-color: var(--fill-color);\n",
              "    }\n",
              "    80% {\n",
              "      border-color: transparent;\n",
              "      border-right-color: var(--fill-color);\n",
              "      border-bottom-color: var(--fill-color);\n",
              "    }\n",
              "    90% {\n",
              "      border-color: transparent;\n",
              "      border-bottom-color: var(--fill-color);\n",
              "    }\n",
              "  }\n",
              "</style>\n",
              "\n",
              "  <script>\n",
              "    async function quickchart(key) {\n",
              "      const quickchartButtonEl =\n",
              "        document.querySelector('#' + key + ' button');\n",
              "      quickchartButtonEl.disabled = true;  // To prevent multiple clicks.\n",
              "      quickchartButtonEl.classList.add('colab-df-spinner');\n",
              "      try {\n",
              "        const charts = await google.colab.kernel.invokeFunction(\n",
              "            'suggestCharts', [key], {});\n",
              "      } catch (error) {\n",
              "        console.error('Error during call to suggestCharts:', error);\n",
              "      }\n",
              "      quickchartButtonEl.classList.remove('colab-df-spinner');\n",
              "      quickchartButtonEl.classList.add('colab-df-quickchart-complete');\n",
              "    }\n",
              "    (() => {\n",
              "      let quickchartButtonEl =\n",
              "        document.querySelector('#df-7bf80948-ea44-4e8a-af43-136448fc8de3 button');\n",
              "      quickchartButtonEl.style.display =\n",
              "        google.colab.kernel.accessAllowed ? 'block' : 'none';\n",
              "    })();\n",
              "  </script>\n",
              "</div>\n",
              "\n",
              "    </div>\n",
              "  </div>\n"
            ],
            "application/vnd.google.colaboratory.intrinsic+json": {
              "type": "dataframe",
              "variable_name": "data",
              "summary": "{\n  \"name\": \"data\",\n  \"rows\": 4572,\n  \"fields\": [\n    {\n      \"column\": \"Year\",\n      \"properties\": {\n        \"dtype\": \"number\",\n        \"std\": 22.448824702021444,\n        \"min\": 1930.0,\n        \"max\": 2014.0,\n        \"num_unique_values\": 20,\n        \"samples\": [\n          1930.0,\n          2006.0,\n          1998.0\n        ],\n        \"semantic_type\": \"\",\n        \"description\": \"\"\n      }\n    },\n    {\n      \"column\": \"Datetime\",\n      \"properties\": {\n        \"dtype\": \"category\",\n        \"num_unique_values\": 602,\n        \"samples\": [\n          \"15 Jun 1974 - 18:00 \",\n          \"16 Jun 2002 - 15:30 \",\n          \"20 Jun 2014 - 13:00 \"\n        ],\n        \"semantic_type\": \"\",\n        \"description\": \"\"\n      }\n    },\n    {\n      \"column\": \"Stage\",\n      \"properties\": {\n        \"dtype\": \"category\",\n        \"num_unique_values\": 23,\n        \"samples\": [\n          \"Group D\",\n          \"First round\",\n          \"Group 1\"\n        ],\n        \"semantic_type\": \"\",\n        \"description\": \"\"\n      }\n    },\n    {\n      \"column\": \"Stadium\",\n      \"properties\": {\n        \"dtype\": \"category\",\n        \"num_unique_values\": 181,\n        \"samples\": [\n          \"Victor Boucquey\",\n          \"Olympia Stadium\",\n          \"Zentralstadion\"\n        ],\n        \"semantic_type\": \"\",\n        \"description\": \"\"\n      }\n    },\n    {\n      \"column\": \"City\",\n      \"properties\": {\n        \"dtype\": \"category\",\n        \"num_unique_values\": 151,\n        \"samples\": [\n          \"La Coru\\ufffdA \",\n          \"Antibes \",\n          \"Oviedo \"\n        ],\n        \"semantic_type\": \"\",\n        \"description\": \"\"\n      }\n    },\n    {\n      \"column\": \"Home Team Name\",\n      \"properties\": {\n        \"dtype\": \"category\",\n        \"num_unique_values\": 78,\n        \"samples\": [\n          \"Australia\",\n          \"France\",\n          \"Scotland\"\n        ],\n        \"semantic_type\": \"\",\n        \"description\": \"\"\n      }\n    },\n    {\n      \"column\": \"Home Team Goals\",\n      \"properties\": {\n        \"dtype\": \"number\",\n        \"std\": 1.6102551385229653,\n        \"min\": 0.0,\n        \"max\": 10.0,\n        \"num_unique_values\": 11,\n        \"samples\": [\n          5.0,\n          4.0,\n          0.0\n        ],\n        \"semantic_type\": \"\",\n        \"description\": \"\"\n      }\n    },\n    {\n      \"column\": \"Away Team Goals\",\n      \"properties\": {\n        \"dtype\": \"number\",\n        \"std\": 1.0875733783096064,\n        \"min\": 0.0,\n        \"max\": 7.0,\n        \"num_unique_values\": 7,\n        \"samples\": [\n          1.0,\n          0.0,\n          4.0\n        ],\n        \"semantic_type\": \"\",\n        \"description\": \"\"\n      }\n    },\n    {\n      \"column\": \"Away Team Name\",\n      \"properties\": {\n        \"dtype\": \"category\",\n        \"num_unique_values\": 83,\n        \"samples\": [\n          \"Germany FR\",\n          \"Mexico\",\n          \"Norway\"\n        ],\n        \"semantic_type\": \"\",\n        \"description\": \"\"\n      }\n    },\n    {\n      \"column\": \"Win conditions\",\n      \"properties\": {\n        \"dtype\": \"category\",\n        \"num_unique_values\": 43,\n        \"samples\": [\n          \"Uruguay win on penalties (4 - 2) \",\n          \"Sweden win on penalties (4 - 5) \",\n          \"Brazil win on penalties (3 - 2) \"\n        ],\n        \"semantic_type\": \"\",\n        \"description\": \"\"\n      }\n    },\n    {\n      \"column\": \"Attendance\",\n      \"properties\": {\n        \"dtype\": \"number\",\n        \"std\": 23485.249247289303,\n        \"min\": 2000.0,\n        \"max\": 173850.0,\n        \"num_unique_values\": 622,\n        \"samples\": [\n          35258.0,\n          72404.0,\n          40248.0\n        ],\n        \"semantic_type\": \"\",\n        \"description\": \"\"\n      }\n    },\n    {\n      \"column\": \"Half-time Home Goals\",\n      \"properties\": {\n        \"dtype\": \"number\",\n        \"std\": 0.9374141286628077,\n        \"min\": 0.0,\n        \"max\": 6.0,\n        \"num_unique_values\": 7,\n        \"samples\": [\n          3.0,\n          2.0,\n          5.0\n        ],\n        \"semantic_type\": \"\",\n        \"description\": \"\"\n      }\n    },\n    {\n      \"column\": \"Half-time Away Goals\",\n      \"properties\": {\n        \"dtype\": \"number\",\n        \"std\": 0.6912518906955027,\n        \"min\": 0.0,\n        \"max\": 5.0,\n        \"num_unique_values\": 6,\n        \"samples\": [\n          0.0,\n          1.0,\n          5.0\n        ],\n        \"semantic_type\": \"\",\n        \"description\": \"\"\n      }\n    },\n    {\n      \"column\": \"Referee\",\n      \"properties\": {\n        \"dtype\": \"category\",\n        \"num_unique_values\": 366,\n        \"samples\": [\n          \"SILVA ARCE Hernan (CHI)\",\n          \"AZON ROMA Ramon (ESP)\",\n          \"MATTEA Francesco (ITA)\"\n        ],\n        \"semantic_type\": \"\",\n        \"description\": \"\"\n      }\n    },\n    {\n      \"column\": \"Assistant 1\",\n      \"properties\": {\n        \"dtype\": \"category\",\n        \"num_unique_values\": 387,\n        \"samples\": [\n          \"FARAG Wagih (EGY)\",\n          \"JARGUZ Alojzy (POL)\",\n          \"VICUNA Claudio (CHI)\"\n        ],\n        \"semantic_type\": \"\",\n        \"description\": \"\"\n      }\n    },\n    {\n      \"column\": \"Assistant 2\",\n      \"properties\": {\n        \"dtype\": \"category\",\n        \"num_unique_values\": 408,\n        \"samples\": [\n          \"VAN NUFFEL Lucien (BEL)\",\n          \"BAMBRIDGE Christopher (AUS)\",\n          \"PARK Hae-Yong (KOR)\"\n        ],\n        \"semantic_type\": \"\",\n        \"description\": \"\"\n      }\n    },\n    {\n      \"column\": \"RoundID\",\n      \"properties\": {\n        \"dtype\": \"number\",\n        \"std\": 27296131.702870198,\n        \"min\": 201.0,\n        \"max\": 97410600.0,\n        \"num_unique_values\": 101,\n        \"samples\": [\n          97410200.0,\n          714.0,\n          338.0\n        ],\n        \"semantic_type\": \"\",\n        \"description\": \"\"\n      }\n    },\n    {\n      \"column\": \"MatchID\",\n      \"properties\": {\n        \"dtype\": \"number\",\n        \"std\": 111057171.67191158,\n        \"min\": 25.0,\n        \"max\": 300186515.0,\n        \"num_unique_values\": 836,\n        \"samples\": [\n          43950031.0,\n          300186460.0,\n          2215.0\n        ],\n        \"semantic_type\": \"\",\n        \"description\": \"\"\n      }\n    },\n    {\n      \"column\": \"Home Team Initials\",\n      \"properties\": {\n        \"dtype\": \"category\",\n        \"num_unique_values\": 77,\n        \"samples\": [\n          \"ARG\",\n          \"NED\",\n          \"HUN\"\n        ],\n        \"semantic_type\": \"\",\n        \"description\": \"\"\n      }\n    },\n    {\n      \"column\": \"Away Team Initials\",\n      \"properties\": {\n        \"dtype\": \"category\",\n        \"num_unique_values\": 82,\n        \"samples\": [\n          \"FRG\",\n          \"MEX\",\n          \"NOR\"\n        ],\n        \"semantic_type\": \"\",\n        \"description\": \"\"\n      }\n    }\n  ]\n}"
            }
          },
          "metadata": {},
          "execution_count": 161
        }
      ]
    },
    {
      "cell_type": "code",
      "source": [
        "data.shape"
      ],
      "metadata": {
        "colab": {
          "base_uri": "https://localhost:8080/"
        },
        "id": "MSePE-46-PXE",
        "outputId": "daa2a8e9-47e5-4ea0-a6e2-ad328b0ba082"
      },
      "execution_count": null,
      "outputs": [
        {
          "output_type": "execute_result",
          "data": {
            "text/plain": [
              "(4572, 20)"
            ]
          },
          "metadata": {},
          "execution_count": 162
        }
      ]
    },
    {
      "cell_type": "code",
      "source": [
        "data.index"
      ],
      "metadata": {
        "colab": {
          "base_uri": "https://localhost:8080/"
        },
        "id": "q2cHVamq-XuO",
        "outputId": "755708f4-f3ec-4ac7-d53b-926a7a547420"
      },
      "execution_count": null,
      "outputs": [
        {
          "output_type": "execute_result",
          "data": {
            "text/plain": [
              "RangeIndex(start=0, stop=4572, step=1)"
            ]
          },
          "metadata": {},
          "execution_count": 7
        }
      ]
    },
    {
      "cell_type": "code",
      "source": [
        "data.columns"
      ],
      "metadata": {
        "colab": {
          "base_uri": "https://localhost:8080/"
        },
        "id": "EMf7Yd94-ZnP",
        "outputId": "d7a99121-7a83-4102-952c-4cfbf61788d0"
      },
      "execution_count": null,
      "outputs": [
        {
          "output_type": "execute_result",
          "data": {
            "text/plain": [
              "Index(['Year', 'Datetime', 'Stage', 'Stadium', 'City', 'Home Team Name',\n",
              "       'Home Team Goals', 'Away Team Goals', 'Away Team Name',\n",
              "       'Win conditions', 'Attendance', 'Half-time Home Goals',\n",
              "       'Half-time Away Goals', 'Referee', 'Assistant 1', 'Assistant 2',\n",
              "       'RoundID', 'MatchID', 'Home Team Initials', 'Away Team Initials'],\n",
              "      dtype='object')"
            ]
          },
          "metadata": {},
          "execution_count": 8
        }
      ]
    },
    {
      "cell_type": "code",
      "source": [
        "data.info()"
      ],
      "metadata": {
        "colab": {
          "base_uri": "https://localhost:8080/"
        },
        "id": "Gtp0N0Bd-b00",
        "outputId": "ac3e8eb1-3ec5-42cb-b3a7-578a0e845ca5"
      },
      "execution_count": null,
      "outputs": [
        {
          "output_type": "stream",
          "name": "stdout",
          "text": [
            "<class 'pandas.core.frame.DataFrame'>\n",
            "RangeIndex: 4572 entries, 0 to 4571\n",
            "Data columns (total 20 columns):\n",
            " #   Column                Non-Null Count  Dtype  \n",
            "---  ------                --------------  -----  \n",
            " 0   Year                  852 non-null    float64\n",
            " 1   Datetime              852 non-null    object \n",
            " 2   Stage                 852 non-null    object \n",
            " 3   Stadium               852 non-null    object \n",
            " 4   City                  852 non-null    object \n",
            " 5   Home Team Name        852 non-null    object \n",
            " 6   Home Team Goals       852 non-null    float64\n",
            " 7   Away Team Goals       852 non-null    float64\n",
            " 8   Away Team Name        852 non-null    object \n",
            " 9   Win conditions        852 non-null    object \n",
            " 10  Attendance            850 non-null    float64\n",
            " 11  Half-time Home Goals  852 non-null    float64\n",
            " 12  Half-time Away Goals  852 non-null    float64\n",
            " 13  Referee               852 non-null    object \n",
            " 14  Assistant 1           852 non-null    object \n",
            " 15  Assistant 2           852 non-null    object \n",
            " 16  RoundID               852 non-null    float64\n",
            " 17  MatchID               852 non-null    float64\n",
            " 18  Home Team Initials    852 non-null    object \n",
            " 19  Away Team Initials    852 non-null    object \n",
            "dtypes: float64(8), object(12)\n",
            "memory usage: 714.5+ KB\n"
          ]
        }
      ]
    },
    {
      "cell_type": "markdown",
      "source": [
        "#HISTOGRAM"
      ],
      "metadata": {
        "id": "88FcfGgo-ky6"
      }
    },
    {
      "cell_type": "code",
      "source": [
        "#create a histogram of the \"Home Team Goals\" And \"Away Team Goals\"feature\n",
        "plt.figure(figsize = (6,6))\n",
        "sns.histplot(data = data, color = 'yellow', x = 'Home Team Goals', y = 'Away Team Goals',\n",
        "             edgecolor = 'linen', alpha = 1, bins = 4)\n",
        "plt.title(\"Histogram of HomeTeam Goals And AwayTeam Goals\")\n",
        "plt.xlabel('Home Team Goals')\n",
        "plt.ylabel('AwayTeam Goals')\n",
        "plt.show()"
      ],
      "metadata": {
        "colab": {
          "base_uri": "https://localhost:8080/",
          "height": 564
        },
        "id": "eY_t6EgR-iya",
        "outputId": "0d926151-87b3-4e80-a291-cf7894a2deb3"
      },
      "execution_count": null,
      "outputs": [
        {
          "output_type": "display_data",
          "data": {
            "text/plain": [
              "<Figure size 600x600 with 1 Axes>"
            ],
            "image/png": "[encoded data removed]"
          },
          "metadata": {}
        }
      ]
    },
    {
      "cell_type": "markdown",
      "source": [
        "#BOX PLOT"
      ],
      "metadata": {
        "id": "UpFS7ceWC4Iu"
      }
    },
    {
      "cell_type": "code",
      "source": [
        "df.boxplot('Home Team Goals')"
      ],
      "metadata": {
        "colab": {
          "base_uri": "https://localhost:8080/",
          "height": 447
        },
        "id": "KX2HkddD_uPl",
        "outputId": "4d6019c4-007d-4cf8-f5b5-26e2a665d4a3"
      },
      "execution_count": null,
      "outputs": [
        {
          "output_type": "execute_result",
          "data": {
            "text/plain": [
              "<Axes: >"
            ]
          },
          "metadata": {},
          "execution_count": 101
        },
        {
          "output_type": "display_data",
          "data": {
            "text/plain": [
              "<Figure size 640x480 with 1 Axes>"
            ],
            "image/png": "[encoded data removed]"
          },
          "metadata": {}
        }
      ]
    },
    {
      "cell_type": "markdown",
      "source": [
        "->Box Plot in home team goals are maximum 10 and minimum are 5."
      ],
      "metadata": {
        "id": "EAGVHgy-DAit"
      }
    },
    {
      "cell_type": "code",
      "source": [
        "df.boxplot('Away Team Goals')"
      ],
      "metadata": {
        "colab": {
          "base_uri": "https://localhost:8080/",
          "height": 447
        },
        "id": "Yrllw3T_CFz_",
        "outputId": "9bfa0e8e-eaad-4534-fdf0-b17340e64739"
      },
      "execution_count": null,
      "outputs": [
        {
          "output_type": "execute_result",
          "data": {
            "text/plain": [
              "<Axes: >"
            ]
          },
          "metadata": {},
          "execution_count": 102
        },
        {
          "output_type": "display_data",
          "data": {
            "text/plain": [
              "<Figure size 640x480 with 1 Axes>"
            ],
            "image/png": "[encoded data removed]"
          },
          "metadata": {}
        }
      ]
    },
    {
      "cell_type": "markdown",
      "source": [
        "->In Box Plot away team goals have only maximum is 7."
      ],
      "metadata": {
        "id": "L945y8GADUuM"
      }
    },
    {
      "cell_type": "markdown",
      "source": [
        "#SCATTER PLOT"
      ],
      "metadata": {
        "id": "-RebL7lHPELs"
      }
    },
    {
      "cell_type": "code",
      "source": [
        "#create a scatterplot of the \"Home team goals\"and \"Away team goals\"feature\n",
        "plt.figure(figsize = (6,6))\n",
        "sns.scatterplot(data = data, color = 'red', x = \"Home Team Goals\", y = \"Away Team Goals\",\n",
        "             edgecolor = 'linen', alpha = 1)\n",
        "plt.title(\"scatterplot of Home Team Goals VS Away Team Goals\")\n",
        "plt.xlabel('Home Goals')\n",
        "plt.ylabel('Away Goals')\n",
        "plt.show()"
      ],
      "metadata": {
        "colab": {
          "base_uri": "https://localhost:8080/",
          "height": 564
        },
        "id": "0W6b51uyO_hw",
        "outputId": "c818c164-fb79-45b8-c2e9-4b2159a92026"
      },
      "execution_count": null,
      "outputs": [
        {
          "output_type": "display_data",
          "data": {
            "text/plain": [
              "<Figure size 600x600 with 1 Axes>"
            ],
            "image/png": "[encoded data removed]"
          },
          "metadata": {}
        }
      ]
    },
    {
      "cell_type": "markdown",
      "source": [
        "#Measure Central Tendency\n",
        "1.Mean\n",
        "2.Median\n",
        "3.Mode"
      ],
      "metadata": {
        "id": "ahj2hchQJQAB"
      }
    },
    {
      "cell_type": "code",
      "source": [
        "#calculate the mean of \"home team goals\"feature\n",
        "round(data['Home Team Goals'].mean(),2)"
      ],
      "metadata": {
        "colab": {
          "base_uri": "https://localhost:8080/"
        },
        "id": "X5kA-32VIDsG",
        "outputId": "94be131d-8a07-4978-a2ce-25cfc7967bc0"
      },
      "execution_count": null,
      "outputs": [
        {
          "output_type": "execute_result",
          "data": {
            "text/plain": [
              "1.81"
            ]
          },
          "metadata": {},
          "execution_count": 181
        }
      ]
    },
    {
      "cell_type": "code",
      "source": [
        "#calculate the median of \"home team goals\"feature\n",
        "data['Home Team Goals'].median()"
      ],
      "metadata": {
        "colab": {
          "base_uri": "https://localhost:8080/"
        },
        "id": "e-cZhjbpPQ0n",
        "outputId": "67bf74fb-b3b9-4edb-9a01-b10a8d7e975d"
      },
      "execution_count": null,
      "outputs": [
        {
          "output_type": "execute_result",
          "data": {
            "text/plain": [
              "2.0"
            ]
          },
          "metadata": {},
          "execution_count": 64
        }
      ]
    },
    {
      "cell_type": "code",
      "source": [
        "#calculate the mode of \"Home Team Goals\"feature\n",
        "data['Home Team Goals'].value_counts().index[0]"
      ],
      "metadata": {
        "colab": {
          "base_uri": "https://localhost:8080/"
        },
        "id": "aPRNgf_GyB0P",
        "outputId": "99c8aae7-2703-4cda-d76f-13e81d7929fe"
      },
      "execution_count": null,
      "outputs": [
        {
          "output_type": "execute_result",
          "data": {
            "text/plain": [
              "1.0"
            ]
          },
          "metadata": {},
          "execution_count": 167
        }
      ]
    },
    {
      "cell_type": "code",
      "source": [
        "#calculate the mean of \"away team goals\"feature\n",
        "round(data['Away Team Goals'].mean(),2)"
      ],
      "metadata": {
        "colab": {
          "base_uri": "https://localhost:8080/"
        },
        "id": "epd9iucMPBKG",
        "outputId": "c05692c3-8ec0-461f-eeb4-d397721513d3"
      },
      "execution_count": null,
      "outputs": [
        {
          "output_type": "execute_result",
          "data": {
            "text/plain": [
              "1.02"
            ]
          },
          "metadata": {},
          "execution_count": 182
        }
      ]
    },
    {
      "cell_type": "code",
      "source": [
        "#calculate the median of \"away team goals\"feature\n",
        "data['Away Team Goals'].median()"
      ],
      "metadata": {
        "colab": {
          "base_uri": "https://localhost:8080/"
        },
        "id": "oJwmLrpJPjgU",
        "outputId": "37268f7a-baa4-46ba-af44-a0f16934ef8b"
      },
      "execution_count": null,
      "outputs": [
        {
          "output_type": "execute_result",
          "data": {
            "text/plain": [
              "1.0"
            ]
          },
          "metadata": {},
          "execution_count": 68
        }
      ]
    },
    {
      "cell_type": "code",
      "source": [
        "#calculate the mode of \"Away Team Goals\"feature\n",
        "data['Away Team Goals'].value_counts().index[0]"
      ],
      "metadata": {
        "colab": {
          "base_uri": "https://localhost:8080/"
        },
        "id": "NgB2s2Cgx3-Y",
        "outputId": "c9ee9ed7-f606-4b4c-9a0d-3d5385fad136"
      },
      "execution_count": null,
      "outputs": [
        {
          "output_type": "execute_result",
          "data": {
            "text/plain": [
              "1.0"
            ]
          },
          "metadata": {},
          "execution_count": 166
        }
      ]
    },
    {
      "cell_type": "markdown",
      "source": [
        "->In central tendency mean can calculating the home team goals and away team goals.\n",
        "#     home goals > away goals\n",
        "#     1.81 > 1.02\n",
        "->In central tendency in median can claculating home and away team goals.\n",
        "#     home goals > away goals\n",
        "#    2.0 > 1.0    \n",
        "-> In mode are totally equal of home and away team goals     "
      ],
      "metadata": {
        "id": "8l13NU_aShuQ"
      }
    },
    {
      "cell_type": "markdown",
      "source": [
        "#2.WORLD CUP PLAYERS"
      ],
      "metadata": {
        "id": "vD05MVc660G-"
      }
    },
    {
      "cell_type": "code",
      "source": [
        "import numpy as np\n",
        "import pandas as pd\n",
        "import matplotlib.pyplot as plt\n",
        "import seaborn as sns"
      ],
      "metadata": {
        "id": "G64l1yIDl9Sf"
      },
      "execution_count": null,
      "outputs": []
    },
    {
      "cell_type": "code",
      "source": [
        "data = pd.read_csv(\"/content/WorldCupPlayers.csv\")\n",
        "df=pd.DataFrame(data)\n",
        "print(data)"
      ],
      "metadata": {
        "colab": {
          "base_uri": "https://localhost:8080/"
        },
        "id": "aAg9BJ6p7ao8",
        "outputId": "0b85f069-f73d-4295-866b-79276a44b75a"
      },
      "execution_count": null,
      "outputs": [
        {
          "output_type": "stream",
          "name": "stdout",
          "text": [
            "       RoundID    MatchID Team Initials               Coach Name Line-up  \\\n",
            "0          201       1096           FRA      CAUDRON Raoul (FRA)       S   \n",
            "1          201       1096           MEX         LUQUE Juan (MEX)       S   \n",
            "2          201       1096           FRA      CAUDRON Raoul (FRA)       S   \n",
            "3          201       1096           MEX         LUQUE Juan (MEX)       S   \n",
            "4          201       1096           FRA      CAUDRON Raoul (FRA)       S   \n",
            "...        ...        ...           ...                      ...     ...   \n",
            "37779   255959  300186501           ARG  SABELLA Alejandro (ARG)       N   \n",
            "37780   255959  300186501           GER       LOEW Joachim (GER)       N   \n",
            "37781   255959  300186501           ARG  SABELLA Alejandro (ARG)       N   \n",
            "37782   255959  300186501           GER       LOEW Joachim (GER)       N   \n",
            "37783   255959  300186501           ARG  SABELLA Alejandro (ARG)       N   \n",
            "\n",
            "       Shirt Number       Player Name Position       Event  \n",
            "0                 0       Alex THEPOT       GK         NaN  \n",
            "1                 0   Oscar BONFIGLIO       GK         NaN  \n",
            "2                 0  Marcel LANGILLER      NaN        G40'  \n",
            "3                 0      Juan CARRENO      NaN        G70'  \n",
            "4                 0   Ernest LIBERATI      NaN         NaN  \n",
            "...             ...               ...      ...         ...  \n",
            "37779            19           ALVAREZ      NaN         NaN  \n",
            "37780             6           KHEDIRA      NaN         NaN  \n",
            "37781            20            AGUERO      NaN  IH46' Y65'  \n",
            "37782            21           MUSTAFI      NaN         NaN  \n",
            "37783            23           BASANTA      NaN         NaN  \n",
            "\n",
            "[37784 rows x 9 columns]\n"
          ]
        }
      ]
    },
    {
      "cell_type": "code",
      "source": [
        "data.head()"
      ],
      "metadata": {
        "colab": {
          "base_uri": "https://localhost:8080/",
          "height": 206
        },
        "id": "5vMRZmqO7sn0",
        "outputId": "34c8f968-1061-42a8-d4fa-4e724ffd4a10"
      },
      "execution_count": null,
      "outputs": [
        {
          "output_type": "execute_result",
          "data": {
            "text/plain": [
              "   RoundID  MatchID Team Initials           Coach Name Line-up  Shirt Number  \\\n",
              "0      201     1096           FRA  CAUDRON Raoul (FRA)       S             0   \n",
              "1      201     1096           MEX     LUQUE Juan (MEX)       S             0   \n",
              "2      201     1096           FRA  CAUDRON Raoul (FRA)       S             0   \n",
              "3      201     1096           MEX     LUQUE Juan (MEX)       S             0   \n",
              "4      201     1096           FRA  CAUDRON Raoul (FRA)       S             0   \n",
              "\n",
              "        Player Name Position Event  \n",
              "0       Alex THEPOT       GK   NaN  \n",
              "1   Oscar BONFIGLIO       GK   NaN  \n",
              "2  Marcel LANGILLER      NaN  G40'  \n",
              "3      Juan CARRENO      NaN  G70'  \n",
              "4   Ernest LIBERATI      NaN   NaN  "
            ],
            "text/html": [
              "\n",
              "  <div id=\"df-3bb7c7aa-a46b-4950-be21-6509dc8bad01\" class=\"colab-df-container\">\n",
              "    <div>\n",
              "<style scoped>\n",
              "    .dataframe tbody tr th:only-of-type {\n",
              "        vertical-align: middle;\n",
              "    }\n",
              "\n",
              "    .dataframe tbody tr th {\n",
              "        vertical-align: top;\n",
              "    }\n",
              "\n",
              "    .dataframe thead th {\n",
              "        text-align: right;\n",
              "    }\n",
              "</style>\n",
              "<table border=\"1\" class=\"dataframe\">\n",
              "  <thead>\n",
              "    <tr style=\"text-align: right;\">\n",
              "      <th></th>\n",
              "      <th>RoundID</th>\n",
              "      <th>MatchID</th>\n",
              "      <th>Team Initials</th>\n",
              "      <th>Coach Name</th>\n",
              "      <th>Line-up</th>\n",
              "      <th>Shirt Number</th>\n",
              "      <th>Player Name</th>\n",
              "      <th>Position</th>\n",
              "      <th>Event</th>\n",
              "    </tr>\n",
              "  </thead>\n",
              "  <tbody>\n",
              "    <tr>\n",
              "      <th>0</th>\n",
              "      <td>201</td>\n",
              "      <td>1096</td>\n",
              "      <td>FRA</td>\n",
              "      <td>CAUDRON Raoul (FRA)</td>\n",
              "      <td>S</td>\n",
              "      <td>0</td>\n",
              "      <td>Alex THEPOT</td>\n",
              "      <td>GK</td>\n",
              "      <td>NaN</td>\n",
              "    </tr>\n",
              "    <tr>\n",
              "      <th>1</th>\n",
              "      <td>201</td>\n",
              "      <td>1096</td>\n",
              "      <td>MEX</td>\n",
              "      <td>LUQUE Juan (MEX)</td>\n",
              "      <td>S</td>\n",
              "      <td>0</td>\n",
              "      <td>Oscar BONFIGLIO</td>\n",
              "      <td>GK</td>\n",
              "      <td>NaN</td>\n",
              "    </tr>\n",
              "    <tr>\n",
              "      <th>2</th>\n",
              "      <td>201</td>\n",
              "      <td>1096</td>\n",
              "      <td>FRA</td>\n",
              "      <td>CAUDRON Raoul (FRA)</td>\n",
              "      <td>S</td>\n",
              "      <td>0</td>\n",
              "      <td>Marcel LANGILLER</td>\n",
              "      <td>NaN</td>\n",
              "      <td>G40'</td>\n",
              "    </tr>\n",
              "    <tr>\n",
              "      <th>3</th>\n",
              "      <td>201</td>\n",
              "      <td>1096</td>\n",
              "      <td>MEX</td>\n",
              "      <td>LUQUE Juan (MEX)</td>\n",
              "      <td>S</td>\n",
              "      <td>0</td>\n",
              "      <td>Juan CARRENO</td>\n",
              "      <td>NaN</td>\n",
              "      <td>G70'</td>\n",
              "    </tr>\n",
              "    <tr>\n",
              "      <th>4</th>\n",
              "      <td>201</td>\n",
              "      <td>1096</td>\n",
              "      <td>FRA</td>\n",
              "      <td>CAUDRON Raoul (FRA)</td>\n",
              "      <td>S</td>\n",
              "      <td>0</td>\n",
              "      <td>Ernest LIBERATI</td>\n",
              "      <td>NaN</td>\n",
              "      <td>NaN</td>\n",
              "    </tr>\n",
              "  </tbody>\n",
              "</table>\n",
              "</div>\n",
              "    <div class=\"colab-df-buttons\">\n",
              "\n",
              "  <div class=\"colab-df-container\">\n",
              "    <button class=\"colab-df-convert\" onclick=\"convertToInteractive('df-3bb7c7aa-a46b-4950-be21-6509dc8bad01')\"\n",
              "            title=\"Convert this dataframe to an interactive table.\"\n",
              "            style=\"display:none;\">\n",
              "\n",
              "  <svg xmlns=\"http://www.w3.org/2000/svg\" height=\"24px\" viewBox=\"0 -960 960 960\">\n",
              "    <path d=\"M120-120v-720h720v720H120Zm60-500h600v-160H180v160Zm220 220h160v-160H400v160Zm0 220h160v-160H400v160ZM180-400h160v-160H180v160Zm440 0h160v-160H620v160ZM180-180h160v-160H180v160Zm440 0h160v-160H620v160Z\"/>\n",
              "  </svg>\n",
              "    </button>\n",
              "\n",
              "  <style>\n",
              "    .colab-df-container {\n",
              "      display:flex;\n",
              "      gap: 12px;\n",
              "    }\n",
              "\n",
              "    .colab-df-convert {\n",
              "      background-color: #E8F0FE;\n",
              "      border: none;\n",
              "      border-radius: 50%;\n",
              "      cursor: pointer;\n",
              "      display: none;\n",
              "      fill: #1967D2;\n",
              "      height: 32px;\n",
              "      padding: 0 0 0 0;\n",
              "      width: 32px;\n",
              "    }\n",
              "\n",
              "    .colab-df-convert:hover {\n",
              "      background-color: #E2EBFA;\n",
              "      box-shadow: 0px 1px 2px rgba(60, 64, 67, 0.3), 0px 1px 3px 1px rgba(60, 64, 67, 0.15);\n",
              "      fill: #174EA6;\n",
              "    }\n",
              "\n",
              "    .colab-df-buttons div {\n",
              "      margin-bottom: 4px;\n",
              "    }\n",
              "\n",
              "    [theme=dark] .colab-df-convert {\n",
              "      background-color: #3B4455;\n",
              "      fill: #D2E3FC;\n",
              "    }\n",
              "\n",
              "    [theme=dark] .colab-df-convert:hover {\n",
              "      background-color: #434B5C;\n",
              "      box-shadow: 0px 1px 3px 1px rgba(0, 0, 0, 0.15);\n",
              "      filter: drop-shadow(0px 1px 2px rgba(0, 0, 0, 0.3));\n",
              "      fill: #FFFFFF;\n",
              "    }\n",
              "  </style>\n",
              "\n",
              "    <script>\n",
              "      const buttonEl =\n",
              "        document.querySelector('#df-3bb7c7aa-a46b-4950-be21-6509dc8bad01 button.colab-df-convert');\n",
              "      buttonEl.style.display =\n",
              "        google.colab.kernel.accessAllowed ? 'block' : 'none';\n",
              "\n",
              "      async function convertToInteractive(key) {\n",
              "        const element = document.querySelector('#df-3bb7c7aa-a46b-4950-be21-6509dc8bad01');\n",
              "        const dataTable =\n",
              "          await google.colab.kernel.invokeFunction('convertToInteractive',\n",
              "                                                    [key], {});\n",
              "        if (!dataTable) return;\n",
              "\n",
              "        const docLinkHtml = 'Like what you see? Visit the ' +\n",
              "          '<a target=\"_blank\" href=https://colab.research.google.com/notebooks/data_table.ipynb>data table notebook</a>'\n",
              "          + ' to learn more about interactive tables.';\n",
              "        element.innerHTML = '';\n",
              "        dataTable['output_type'] = 'display_data';\n",
              "        await google.colab.output.renderOutput(dataTable, element);\n",
              "        const docLink = document.createElement('div');\n",
              "        docLink.innerHTML = docLinkHtml;\n",
              "        element.appendChild(docLink);\n",
              "      }\n",
              "    </script>\n",
              "  </div>\n",
              "\n",
              "\n",
              "<div id=\"df-6dafc1cb-f956-400b-a575-eda6a1416367\">\n",
              "  <button class=\"colab-df-quickchart\" onclick=\"quickchart('df-6dafc1cb-f956-400b-a575-eda6a1416367')\"\n",
              "            title=\"Suggest charts\"\n",
              "            style=\"display:none;\">\n",
              "\n",
              "<svg xmlns=\"http://www.w3.org/2000/svg\" height=\"24px\"viewBox=\"0 0 24 24\"\n",
              "     width=\"24px\">\n",
              "    <g>\n",
              "        <path d=\"M19 3H5c-1.1 0-2 .9-2 2v14c0 1.1.9 2 2 2h14c1.1 0 2-.9 2-2V5c0-1.1-.9-2-2-2zM9 17H7v-7h2v7zm4 0h-2V7h2v10zm4 0h-2v-4h2v4z\"/>\n",
              "    </g>\n",
              "</svg>\n",
              "  </button>\n",
              "\n",
              "<style>\n",
              "  .colab-df-quickchart {\n",
              "      --bg-color: #E8F0FE;\n",
              "      --fill-color: #1967D2;\n",
              "      --hover-bg-color: #E2EBFA;\n",
              "      --hover-fill-color: #174EA6;\n",
              "      --disabled-fill-color: #AAA;\n",
              "      --disabled-bg-color: #DDD;\n",
              "  }\n",
              "\n",
              "  [theme=dark] .colab-df-quickchart {\n",
              "      --bg-color: #3B4455;\n",
              "      --fill-color: #D2E3FC;\n",
              "      --hover-bg-color: #434B5C;\n",
              "      --hover-fill-color: #FFFFFF;\n",
              "      --disabled-bg-color: #3B4455;\n",
              "      --disabled-fill-color: #666;\n",
              "  }\n",
              "\n",
              "  .colab-df-quickchart {\n",
              "    background-color: var(--bg-color);\n",
              "    border: none;\n",
              "    border-radius: 50%;\n",
              "    cursor: pointer;\n",
              "    display: none;\n",
              "    fill: var(--fill-color);\n",
              "    height: 32px;\n",
              "    padding: 0;\n",
              "    width: 32px;\n",
              "  }\n",
              "\n",
              "  .colab-df-quickchart:hover {\n",
              "    background-color: var(--hover-bg-color);\n",
              "    box-shadow: 0 1px 2px rgba(60, 64, 67, 0.3), 0 1px 3px 1px rgba(60, 64, 67, 0.15);\n",
              "    fill: var(--button-hover-fill-color);\n",
              "  }\n",
              "\n",
              "  .colab-df-quickchart-complete:disabled,\n",
              "  .colab-df-quickchart-complete:disabled:hover {\n",
              "    background-color: var(--disabled-bg-color);\n",
              "    fill: var(--disabled-fill-color);\n",
              "    box-shadow: none;\n",
              "  }\n",
              "\n",
              "  .colab-df-spinner {\n",
              "    border: 2px solid var(--fill-color);\n",
              "    border-color: transparent;\n",
              "    border-bottom-color: var(--fill-color);\n",
              "    animation:\n",
              "      spin 1s steps(1) infinite;\n",
              "  }\n",
              "\n",
              "  @keyframes spin {\n",
              "    0% {\n",
              "      border-color: transparent;\n",
              "      border-bottom-color: var(--fill-color);\n",
              "      border-left-color: var(--fill-color);\n",
              "    }\n",
              "    20% {\n",
              "      border-color: transparent;\n",
              "      border-left-color: var(--fill-color);\n",
              "      border-top-color: var(--fill-color);\n",
              "    }\n",
              "    30% {\n",
              "      border-color: transparent;\n",
              "      border-left-color: var(--fill-color);\n",
              "      border-top-color: var(--fill-color);\n",
              "      border-right-color: var(--fill-color);\n",
              "    }\n",
              "    40% {\n",
              "      border-color: transparent;\n",
              "      border-right-color: var(--fill-color);\n",
              "      border-top-color: var(--fill-color);\n",
              "    }\n",
              "    60% {\n",
              "      border-color: transparent;\n",
              "      border-right-color: var(--fill-color);\n",
              "    }\n",
              "    80% {\n",
              "      border-color: transparent;\n",
              "      border-right-color: var(--fill-color);\n",
              "      border-bottom-color: var(--fill-color);\n",
              "    }\n",
              "    90% {\n",
              "      border-color: transparent;\n",
              "      border-bottom-color: var(--fill-color);\n",
              "    }\n",
              "  }\n",
              "</style>\n",
              "\n",
              "  <script>\n",
              "    async function quickchart(key) {\n",
              "      const quickchartButtonEl =\n",
              "        document.querySelector('#' + key + ' button');\n",
              "      quickchartButtonEl.disabled = true;  // To prevent multiple clicks.\n",
              "      quickchartButtonEl.classList.add('colab-df-spinner');\n",
              "      try {\n",
              "        const charts = await google.colab.kernel.invokeFunction(\n",
              "            'suggestCharts', [key], {});\n",
              "      } catch (error) {\n",
              "        console.error('Error during call to suggestCharts:', error);\n",
              "      }\n",
              "      quickchartButtonEl.classList.remove('colab-df-spinner');\n",
              "      quickchartButtonEl.classList.add('colab-df-quickchart-complete');\n",
              "    }\n",
              "    (() => {\n",
              "      let quickchartButtonEl =\n",
              "        document.querySelector('#df-6dafc1cb-f956-400b-a575-eda6a1416367 button');\n",
              "      quickchartButtonEl.style.display =\n",
              "        google.colab.kernel.accessAllowed ? 'block' : 'none';\n",
              "    })();\n",
              "  </script>\n",
              "</div>\n",
              "\n",
              "    </div>\n",
              "  </div>\n"
            ],
            "application/vnd.google.colaboratory.intrinsic+json": {
              "type": "dataframe",
              "variable_name": "data",
              "summary": "{\n  \"name\": \"data\",\n  \"rows\": 37784,\n  \"fields\": [\n    {\n      \"column\": \"RoundID\",\n      \"properties\": {\n        \"dtype\": \"number\",\n        \"std\": 27701436,\n        \"min\": 201,\n        \"max\": 97410600,\n        \"num_unique_values\": 101,\n        \"samples\": [\n          97410200,\n          714,\n          338\n        ],\n        \"semantic_type\": \"\",\n        \"description\": \"\"\n      }\n    },\n    {\n      \"column\": \"MatchID\",\n      \"properties\": {\n        \"dtype\": \"number\",\n        \"std\": 112391584,\n        \"min\": 25,\n        \"max\": 300186515,\n        \"num_unique_values\": 836,\n        \"samples\": [\n          43950031,\n          300186460,\n          2215\n        ],\n        \"semantic_type\": \"\",\n        \"description\": \"\"\n      }\n    },\n    {\n      \"column\": \"Team Initials\",\n      \"properties\": {\n        \"dtype\": \"category\",\n        \"num_unique_values\": 82,\n        \"samples\": [\n          \"TUR\",\n          \"FRA\",\n          \"TCH\"\n        ],\n        \"semantic_type\": \"\",\n        \"description\": \"\"\n      }\n    },\n    {\n      \"column\": \"Coach Name\",\n      \"properties\": {\n        \"dtype\": \"category\",\n        \"num_unique_values\": 335,\n        \"samples\": [\n          \"GOULD David (USA)\",\n          \"MARKO Jozef (TCH)\",\n          \"KOLSKY Karel (TCH)\"\n        ],\n        \"semantic_type\": \"\",\n        \"description\": \"\"\n      }\n    },\n    {\n      \"column\": \"Line-up\",\n      \"properties\": {\n        \"dtype\": \"category\",\n        \"num_unique_values\": 2,\n        \"samples\": [\n          \"N\",\n          \"S\"\n        ],\n        \"semantic_type\": \"\",\n        \"description\": \"\"\n      }\n    },\n    {\n      \"column\": \"Shirt Number\",\n      \"properties\": {\n        \"dtype\": \"number\",\n        \"std\": 6,\n        \"min\": 0,\n        \"max\": 23,\n        \"num_unique_values\": 24,\n        \"samples\": [\n          9,\n          6\n        ],\n        \"semantic_type\": \"\",\n        \"description\": \"\"\n      }\n    },\n    {\n      \"column\": \"Player Name\",\n      \"properties\": {\n        \"dtype\": \"category\",\n        \"num_unique_values\": 7663,\n        \"samples\": [\n          \"Jose ALEXANKO\",\n          \"Rolando GARCIA\"\n        ],\n        \"semantic_type\": \"\",\n        \"description\": \"\"\n      }\n    },\n    {\n      \"column\": \"Position\",\n      \"properties\": {\n        \"dtype\": \"category\",\n        \"num_unique_values\": 3,\n        \"samples\": [\n          \"GK\",\n          \"C\"\n        ],\n        \"semantic_type\": \"\",\n        \"description\": \"\"\n      }\n    },\n    {\n      \"column\": \"Event\",\n      \"properties\": {\n        \"dtype\": \"category\",\n        \"num_unique_values\": 1893,\n        \"samples\": [\n          \"O95'\",\n          \"I90'\"\n        ],\n        \"semantic_type\": \"\",\n        \"description\": \"\"\n      }\n    }\n  ]\n}"
            }
          },
          "metadata": {},
          "execution_count": 170
        }
      ]
    },
    {
      "cell_type": "code",
      "source": [
        "data.shape"
      ],
      "metadata": {
        "colab": {
          "base_uri": "https://localhost:8080/"
        },
        "id": "fsndxGyo_SAv",
        "outputId": "db552f88-ffee-4304-e9d1-aa5b35f3f156"
      },
      "execution_count": null,
      "outputs": [
        {
          "output_type": "execute_result",
          "data": {
            "text/plain": [
              "(37784, 9)"
            ]
          },
          "metadata": {},
          "execution_count": 83
        }
      ]
    },
    {
      "cell_type": "code",
      "source": [
        "data.index"
      ],
      "metadata": {
        "colab": {
          "base_uri": "https://localhost:8080/"
        },
        "id": "nLoB3Q0q_WRf",
        "outputId": "c0948e86-29cc-4d43-a3a3-dea93c1c7e1e"
      },
      "execution_count": null,
      "outputs": [
        {
          "output_type": "execute_result",
          "data": {
            "text/plain": [
              "RangeIndex(start=0, stop=37784, step=1)"
            ]
          },
          "metadata": {},
          "execution_count": 84
        }
      ]
    },
    {
      "cell_type": "code",
      "source": [
        "data.columns"
      ],
      "metadata": {
        "colab": {
          "base_uri": "https://localhost:8080/"
        },
        "id": "e8E8Nkda_YzB",
        "outputId": "9ebec579-0876-4736-ff6f-920b4d52c04c"
      },
      "execution_count": null,
      "outputs": [
        {
          "output_type": "execute_result",
          "data": {
            "text/plain": [
              "Index(['RoundID', 'MatchID', 'Team Initials', 'Coach Name', 'Line-up',\n",
              "       'Shirt Number', 'Player Name', 'Position', 'Event'],\n",
              "      dtype='object')"
            ]
          },
          "metadata": {},
          "execution_count": 85
        }
      ]
    },
    {
      "cell_type": "code",
      "source": [
        "data.info()"
      ],
      "metadata": {
        "colab": {
          "base_uri": "https://localhost:8080/"
        },
        "id": "zr95_5kr_a5E",
        "outputId": "989c9e5a-3c8f-40c0-b59c-4afe32ce9591"
      },
      "execution_count": null,
      "outputs": [
        {
          "output_type": "stream",
          "name": "stdout",
          "text": [
            "<class 'pandas.core.frame.DataFrame'>\n",
            "RangeIndex: 37784 entries, 0 to 37783\n",
            "Data columns (total 9 columns):\n",
            " #   Column         Non-Null Count  Dtype \n",
            "---  ------         --------------  ----- \n",
            " 0   RoundID        37784 non-null  int64 \n",
            " 1   MatchID        37784 non-null  int64 \n",
            " 2   Team Initials  37784 non-null  object\n",
            " 3   Coach Name     37784 non-null  object\n",
            " 4   Line-up        37784 non-null  object\n",
            " 5   Shirt Number   37784 non-null  int64 \n",
            " 6   Player Name    37784 non-null  object\n",
            " 7   Position       4143 non-null   object\n",
            " 8   Event          9069 non-null   object\n",
            "dtypes: int64(3), object(6)\n",
            "memory usage: 2.6+ MB\n"
          ]
        }
      ]
    },
    {
      "cell_type": "code",
      "source": [
        "#create a histogram of the \"round id\"and \"match id\"feature\n",
        "plt.figure(figsize = (6,6))\n",
        "sns.histplot(data = data, color = 'red', x = \"RoundID\", y = \"MatchID\",\n",
        "             edgecolor = 'linen', alpha = 1, bins = 4)\n",
        "plt.title(\"Histogram of  RoundID VS  MatchID\")\n",
        "plt.xlabel('Rounds')\n",
        "plt.ylabel('Matches')\n",
        "plt.show()"
      ],
      "metadata": {
        "colab": {
          "base_uri": "https://localhost:8080/",
          "height": 564
        },
        "id": "w6L9gGR-_pAS",
        "outputId": "cff2aa25-4ff1-4b9a-fe69-78db5e10d85d"
      },
      "execution_count": null,
      "outputs": [
        {
          "output_type": "display_data",
          "data": {
            "text/plain": [
              "<Figure size 600x600 with 1 Axes>"
            ],
            "image/png": "[encoded data removed]"
          },
          "metadata": {}
        }
      ]
    },
    {
      "cell_type": "code",
      "source": [
        "#create a scatterplot of the \"round id\"and \"match id\"feature\n",
        "plt.figure(figsize = (6,6))\n",
        "sns.scatterplot(data = data, color = 'red', x = \"RoundID\", y = \"MatchID\",\n",
        "             edgecolor = 'linen', alpha = 1)\n",
        "plt.title(\"scatterplot of  RoundID VS  MatchID\")\n",
        "plt.xlabel('Rounds')\n",
        "plt.ylabel('Matches')\n",
        "plt.show()"
      ],
      "metadata": {
        "colab": {
          "base_uri": "https://localhost:8080/",
          "height": 564
        },
        "id": "xtlZ2LajCTb2",
        "outputId": "4bea5248-90aa-493e-a406-85dffb8b538d"
      },
      "execution_count": null,
      "outputs": [
        {
          "output_type": "display_data",
          "data": {
            "text/plain": [
              "<Figure size 600x600 with 1 Axes>"
            ],
            "image/png": "[encoded data removed]"
          },
          "metadata": {}
        }
      ]
    },
    {
      "cell_type": "code",
      "source": [
        "#create a countplot of the \"Shirt Number\"feature\n",
        "plt.figure(figsize = (11,6))\n",
        "sns.countplot(data = data, color = 'green', x = \"Shirt Number\",\n",
        "             edgecolor = 'linen', alpha = 0.7)\n",
        "plt.title(\"countplot of Shirt Number\")\n",
        "plt.xlabel('Shirt Number')\n",
        "plt.ylabel('count')\n",
        "plt.show()"
      ],
      "metadata": {
        "colab": {
          "base_uri": "https://localhost:8080/",
          "height": 564
        },
        "id": "CcBRyWOnKCUy",
        "outputId": "94e1f571-313a-44ad-dc04-d77e3d22e0fb"
      },
      "execution_count": null,
      "outputs": [
        {
          "output_type": "display_data",
          "data": {
            "text/plain": [
              "<Figure size 1100x600 with 1 Axes>"
            ],
            "image/png": "[encoded data removed]"
          },
          "metadata": {}
        }
      ]
    },
    {
      "cell_type": "markdown",
      "source": [
        "#3.WORLD CUPS"
      ],
      "metadata": {
        "id": "Hy6n2NDJWWxT"
      }
    },
    {
      "cell_type": "code",
      "source": [
        "import numpy as np\n",
        "import pandas as pd\n",
        "import matplotlib.pyplot as plt\n",
        "import seaborn as sns"
      ],
      "metadata": {
        "id": "aCeOTCBRWCd1"
      },
      "execution_count": null,
      "outputs": []
    },
    {
      "cell_type": "code",
      "source": [
        "data = pd.read_csv(\"/content/WorldCups.csv\")\n",
        "df=pd.DataFrame(data)\n",
        "print(data)"
      ],
      "metadata": {
        "colab": {
          "base_uri": "https://localhost:8080/"
        },
        "id": "hzgJ0bRdWlJS",
        "outputId": "bac8af5a-4aa3-42f6-b739-1467dc3d00f1"
      },
      "execution_count": null,
      "outputs": [
        {
          "output_type": "stream",
          "name": "stdout",
          "text": [
            "    Year       Country      Winner      Runners-Up        Third  \\\n",
            "0   1930       Uruguay     Uruguay       Argentina          USA   \n",
            "1   1934         Italy       Italy  Czechoslovakia      Germany   \n",
            "2   1938        France       Italy         Hungary       Brazil   \n",
            "3   1950        Brazil     Uruguay          Brazil       Sweden   \n",
            "4   1954   Switzerland  Germany FR         Hungary      Austria   \n",
            "5   1958        Sweden      Brazil          Sweden       France   \n",
            "6   1962         Chile      Brazil  Czechoslovakia        Chile   \n",
            "7   1966       England     England      Germany FR     Portugal   \n",
            "8   1970        Mexico      Brazil           Italy   Germany FR   \n",
            "9   1974       Germany  Germany FR     Netherlands       Poland   \n",
            "10  1978     Argentina   Argentina     Netherlands       Brazil   \n",
            "11  1982         Spain       Italy      Germany FR       Poland   \n",
            "12  1986        Mexico   Argentina      Germany FR       France   \n",
            "13  1990         Italy  Germany FR       Argentina        Italy   \n",
            "14  1994           USA      Brazil           Italy       Sweden   \n",
            "15  1998        France      France          Brazil      Croatia   \n",
            "16  2002   Korea/Japan      Brazil         Germany       Turkey   \n",
            "17  2006       Germany       Italy          France      Germany   \n",
            "18  2010  South Africa       Spain     Netherlands      Germany   \n",
            "19  2014        Brazil     Germany       Argentina  Netherlands   \n",
            "\n",
            "            Fourth  GoalsScored  QualifiedTeams  MatchesPlayed Attendance  \n",
            "0       Yugoslavia           70              13             18    590.549  \n",
            "1          Austria           70              16             17    363.000  \n",
            "2           Sweden           84              15             18    375.700  \n",
            "3            Spain           88              13             22  1.045.246  \n",
            "4          Uruguay          140              16             26    768.607  \n",
            "5       Germany FR          126              16             35    819.810  \n",
            "6       Yugoslavia           89              16             32    893.172  \n",
            "7     Soviet Union           89              16             32  1.563.135  \n",
            "8          Uruguay           95              16             32  1.603.975  \n",
            "9           Brazil           97              16             38  1.865.753  \n",
            "10           Italy          102              16             38  1.545.791  \n",
            "11          France          146              24             52  2.109.723  \n",
            "12         Belgium          132              24             52  2.394.031  \n",
            "13         England          115              24             52  2.516.215  \n",
            "14        Bulgaria          141              24             52  3.587.538  \n",
            "15     Netherlands          171              32             64  2.785.100  \n",
            "16  Korea Republic          161              32             64  2.705.197  \n",
            "17        Portugal          147              32             64  3.359.439  \n",
            "18         Uruguay          145              32             64  3.178.856  \n",
            "19          Brazil          171              32             64  3.386.810  \n"
          ]
        }
      ]
    },
    {
      "cell_type": "code",
      "source": [
        "data.head()"
      ],
      "metadata": {
        "colab": {
          "base_uri": "https://localhost:8080/",
          "height": 206
        },
        "id": "qKcUYtWxWwnu",
        "outputId": "8a0a23eb-7703-40ee-9929-ac8ff80feaf9"
      },
      "execution_count": null,
      "outputs": [
        {
          "output_type": "execute_result",
          "data": {
            "text/plain": [
              "   Year      Country      Winner      Runners-Up    Third      Fourth  \\\n",
              "0  1930      Uruguay     Uruguay       Argentina      USA  Yugoslavia   \n",
              "1  1934        Italy       Italy  Czechoslovakia  Germany     Austria   \n",
              "2  1938       France       Italy         Hungary   Brazil      Sweden   \n",
              "3  1950       Brazil     Uruguay          Brazil   Sweden       Spain   \n",
              "4  1954  Switzerland  Germany FR         Hungary  Austria     Uruguay   \n",
              "\n",
              "   GoalsScored  QualifiedTeams  MatchesPlayed Attendance  \n",
              "0           70              13             18    590.549  \n",
              "1           70              16             17    363.000  \n",
              "2           84              15             18    375.700  \n",
              "3           88              13             22  1.045.246  \n",
              "4          140              16             26    768.607  "
            ],
            "text/html": [
              "\n",
              "  <div id=\"df-b0d4ec03-b53e-4461-b91f-9446a487ddfd\" class=\"colab-df-container\">\n",
              "    <div>\n",
              "<style scoped>\n",
              "    .dataframe tbody tr th:only-of-type {\n",
              "        vertical-align: middle;\n",
              "    }\n",
              "\n",
              "    .dataframe tbody tr th {\n",
              "        vertical-align: top;\n",
              "    }\n",
              "\n",
              "    .dataframe thead th {\n",
              "        text-align: right;\n",
              "    }\n",
              "</style>\n",
              "<table border=\"1\" class=\"dataframe\">\n",
              "  <thead>\n",
              "    <tr style=\"text-align: right;\">\n",
              "      <th></th>\n",
              "      <th>Year</th>\n",
              "      <th>Country</th>\n",
              "      <th>Winner</th>\n",
              "      <th>Runners-Up</th>\n",
              "      <th>Third</th>\n",
              "      <th>Fourth</th>\n",
              "      <th>GoalsScored</th>\n",
              "      <th>QualifiedTeams</th>\n",
              "      <th>MatchesPlayed</th>\n",
              "      <th>Attendance</th>\n",
              "    </tr>\n",
              "  </thead>\n",
              "  <tbody>\n",
              "    <tr>\n",
              "      <th>0</th>\n",
              "      <td>1930</td>\n",
              "      <td>Uruguay</td>\n",
              "      <td>Uruguay</td>\n",
              "      <td>Argentina</td>\n",
              "      <td>USA</td>\n",
              "      <td>Yugoslavia</td>\n",
              "      <td>70</td>\n",
              "      <td>13</td>\n",
              "      <td>18</td>\n",
              "      <td>590.549</td>\n",
              "    </tr>\n",
              "    <tr>\n",
              "      <th>1</th>\n",
              "      <td>1934</td>\n",
              "      <td>Italy</td>\n",
              "      <td>Italy</td>\n",
              "      <td>Czechoslovakia</td>\n",
              "      <td>Germany</td>\n",
              "      <td>Austria</td>\n",
              "      <td>70</td>\n",
              "      <td>16</td>\n",
              "      <td>17</td>\n",
              "      <td>363.000</td>\n",
              "    </tr>\n",
              "    <tr>\n",
              "      <th>2</th>\n",
              "      <td>1938</td>\n",
              "      <td>France</td>\n",
              "      <td>Italy</td>\n",
              "      <td>Hungary</td>\n",
              "      <td>Brazil</td>\n",
              "      <td>Sweden</td>\n",
              "      <td>84</td>\n",
              "      <td>15</td>\n",
              "      <td>18</td>\n",
              "      <td>375.700</td>\n",
              "    </tr>\n",
              "    <tr>\n",
              "      <th>3</th>\n",
              "      <td>1950</td>\n",
              "      <td>Brazil</td>\n",
              "      <td>Uruguay</td>\n",
              "      <td>Brazil</td>\n",
              "      <td>Sweden</td>\n",
              "      <td>Spain</td>\n",
              "      <td>88</td>\n",
              "      <td>13</td>\n",
              "      <td>22</td>\n",
              "      <td>1.045.246</td>\n",
              "    </tr>\n",
              "    <tr>\n",
              "      <th>4</th>\n",
              "      <td>1954</td>\n",
              "      <td>Switzerland</td>\n",
              "      <td>Germany FR</td>\n",
              "      <td>Hungary</td>\n",
              "      <td>Austria</td>\n",
              "      <td>Uruguay</td>\n",
              "      <td>140</td>\n",
              "      <td>16</td>\n",
              "      <td>26</td>\n",
              "      <td>768.607</td>\n",
              "    </tr>\n",
              "  </tbody>\n",
              "</table>\n",
              "</div>\n",
              "    <div class=\"colab-df-buttons\">\n",
              "\n",
              "  <div class=\"colab-df-container\">\n",
              "    <button class=\"colab-df-convert\" onclick=\"convertToInteractive('df-b0d4ec03-b53e-4461-b91f-9446a487ddfd')\"\n",
              "            title=\"Convert this dataframe to an interactive table.\"\n",
              "            style=\"display:none;\">\n",
              "\n",
              "  <svg xmlns=\"http://www.w3.org/2000/svg\" height=\"24px\" viewBox=\"0 -960 960 960\">\n",
              "    <path d=\"M120-120v-720h720v720H120Zm60-500h600v-160H180v160Zm220 220h160v-160H400v160Zm0 220h160v-160H400v160ZM180-400h160v-160H180v160Zm440 0h160v-160H620v160ZM180-180h160v-160H180v160Zm440 0h160v-160H620v160Z\"/>\n",
              "  </svg>\n",
              "    </button>\n",
              "\n",
              "  <style>\n",
              "    .colab-df-container {\n",
              "      display:flex;\n",
              "      gap: 12px;\n",
              "    }\n",
              "\n",
              "    .colab-df-convert {\n",
              "      background-color: #E8F0FE;\n",
              "      border: none;\n",
              "      border-radius: 50%;\n",
              "      cursor: pointer;\n",
              "      display: none;\n",
              "      fill: #1967D2;\n",
              "      height: 32px;\n",
              "      padding: 0 0 0 0;\n",
              "      width: 32px;\n",
              "    }\n",
              "\n",
              "    .colab-df-convert:hover {\n",
              "      background-color: #E2EBFA;\n",
              "      box-shadow: 0px 1px 2px rgba(60, 64, 67, 0.3), 0px 1px 3px 1px rgba(60, 64, 67, 0.15);\n",
              "      fill: #174EA6;\n",
              "    }\n",
              "\n",
              "    .colab-df-buttons div {\n",
              "      margin-bottom: 4px;\n",
              "    }\n",
              "\n",
              "    [theme=dark] .colab-df-convert {\n",
              "      background-color: #3B4455;\n",
              "      fill: #D2E3FC;\n",
              "    }\n",
              "\n",
              "    [theme=dark] .colab-df-convert:hover {\n",
              "      background-color: #434B5C;\n",
              "      box-shadow: 0px 1px 3px 1px rgba(0, 0, 0, 0.15);\n",
              "      filter: drop-shadow(0px 1px 2px rgba(0, 0, 0, 0.3));\n",
              "      fill: #FFFFFF;\n",
              "    }\n",
              "  </style>\n",
              "\n",
              "    <script>\n",
              "      const buttonEl =\n",
              "        document.querySelector('#df-b0d4ec03-b53e-4461-b91f-9446a487ddfd button.colab-df-convert');\n",
              "      buttonEl.style.display =\n",
              "        google.colab.kernel.accessAllowed ? 'block' : 'none';\n",
              "\n",
              "      async function convertToInteractive(key) {\n",
              "        const element = document.querySelector('#df-b0d4ec03-b53e-4461-b91f-9446a487ddfd');\n",
              "        const dataTable =\n",
              "          await google.colab.kernel.invokeFunction('convertToInteractive',\n",
              "                                                    [key], {});\n",
              "        if (!dataTable) return;\n",
              "\n",
              "        const docLinkHtml = 'Like what you see? Visit the ' +\n",
              "          '<a target=\"_blank\" href=https://colab.research.google.com/notebooks/data_table.ipynb>data table notebook</a>'\n",
              "          + ' to learn more about interactive tables.';\n",
              "        element.innerHTML = '';\n",
              "        dataTable['output_type'] = 'display_data';\n",
              "        await google.colab.output.renderOutput(dataTable, element);\n",
              "        const docLink = document.createElement('div');\n",
              "        docLink.innerHTML = docLinkHtml;\n",
              "        element.appendChild(docLink);\n",
              "      }\n",
              "    </script>\n",
              "  </div>\n",
              "\n",
              "\n",
              "<div id=\"df-37a7efb5-3387-4303-acb5-5e87a846146c\">\n",
              "  <button class=\"colab-df-quickchart\" onclick=\"quickchart('df-37a7efb5-3387-4303-acb5-5e87a846146c')\"\n",
              "            title=\"Suggest charts\"\n",
              "            style=\"display:none;\">\n",
              "\n",
              "<svg xmlns=\"http://www.w3.org/2000/svg\" height=\"24px\"viewBox=\"0 0 24 24\"\n",
              "     width=\"24px\">\n",
              "    <g>\n",
              "        <path d=\"M19 3H5c-1.1 0-2 .9-2 2v14c0 1.1.9 2 2 2h14c1.1 0 2-.9 2-2V5c0-1.1-.9-2-2-2zM9 17H7v-7h2v7zm4 0h-2V7h2v10zm4 0h-2v-4h2v4z\"/>\n",
              "    </g>\n",
              "</svg>\n",
              "  </button>\n",
              "\n",
              "<style>\n",
              "  .colab-df-quickchart {\n",
              "      --bg-color: #E8F0FE;\n",
              "      --fill-color: #1967D2;\n",
              "      --hover-bg-color: #E2EBFA;\n",
              "      --hover-fill-color: #174EA6;\n",
              "      --disabled-fill-color: #AAA;\n",
              "      --disabled-bg-color: #DDD;\n",
              "  }\n",
              "\n",
              "  [theme=dark] .colab-df-quickchart {\n",
              "      --bg-color: #3B4455;\n",
              "      --fill-color: #D2E3FC;\n",
              "      --hover-bg-color: #434B5C;\n",
              "      --hover-fill-color: #FFFFFF;\n",
              "      --disabled-bg-color: #3B4455;\n",
              "      --disabled-fill-color: #666;\n",
              "  }\n",
              "\n",
              "  .colab-df-quickchart {\n",
              "    background-color: var(--bg-color);\n",
              "    border: none;\n",
              "    border-radius: 50%;\n",
              "    cursor: pointer;\n",
              "    display: none;\n",
              "    fill: var(--fill-color);\n",
              "    height: 32px;\n",
              "    padding: 0;\n",
              "    width: 32px;\n",
              "  }\n",
              "\n",
              "  .colab-df-quickchart:hover {\n",
              "    background-color: var(--hover-bg-color);\n",
              "    box-shadow: 0 1px 2px rgba(60, 64, 67, 0.3), 0 1px 3px 1px rgba(60, 64, 67, 0.15);\n",
              "    fill: var(--button-hover-fill-color);\n",
              "  }\n",
              "\n",
              "  .colab-df-quickchart-complete:disabled,\n",
              "  .colab-df-quickchart-complete:disabled:hover {\n",
              "    background-color: var(--disabled-bg-color);\n",
              "    fill: var(--disabled-fill-color);\n",
              "    box-shadow: none;\n",
              "  }\n",
              "\n",
              "  .colab-df-spinner {\n",
              "    border: 2px solid var(--fill-color);\n",
              "    border-color: transparent;\n",
              "    border-bottom-color: var(--fill-color);\n",
              "    animation:\n",
              "      spin 1s steps(1) infinite;\n",
              "  }\n",
              "\n",
              "  @keyframes spin {\n",
              "    0% {\n",
              "      border-color: transparent;\n",
              "      border-bottom-color: var(--fill-color);\n",
              "      border-left-color: var(--fill-color);\n",
              "    }\n",
              "    20% {\n",
              "      border-color: transparent;\n",
              "      border-left-color: var(--fill-color);\n",
              "      border-top-color: var(--fill-color);\n",
              "    }\n",
              "    30% {\n",
              "      border-color: transparent;\n",
              "      border-left-color: var(--fill-color);\n",
              "      border-top-color: var(--fill-color);\n",
              "      border-right-color: var(--fill-color);\n",
              "    }\n",
              "    40% {\n",
              "      border-color: transparent;\n",
              "      border-right-color: var(--fill-color);\n",
              "      border-top-color: var(--fill-color);\n",
              "    }\n",
              "    60% {\n",
              "      border-color: transparent;\n",
              "      border-right-color: var(--fill-color);\n",
              "    }\n",
              "    80% {\n",
              "      border-color: transparent;\n",
              "      border-right-color: var(--fill-color);\n",
              "      border-bottom-color: var(--fill-color);\n",
              "    }\n",
              "    90% {\n",
              "      border-color: transparent;\n",
              "      border-bottom-color: var(--fill-color);\n",
              "    }\n",
              "  }\n",
              "</style>\n",
              "\n",
              "  <script>\n",
              "    async function quickchart(key) {\n",
              "      const quickchartButtonEl =\n",
              "        document.querySelector('#' + key + ' button');\n",
              "      quickchartButtonEl.disabled = true;  // To prevent multiple clicks.\n",
              "      quickchartButtonEl.classList.add('colab-df-spinner');\n",
              "      try {\n",
              "        const charts = await google.colab.kernel.invokeFunction(\n",
              "            'suggestCharts', [key], {});\n",
              "      } catch (error) {\n",
              "        console.error('Error during call to suggestCharts:', error);\n",
              "      }\n",
              "      quickchartButtonEl.classList.remove('colab-df-spinner');\n",
              "      quickchartButtonEl.classList.add('colab-df-quickchart-complete');\n",
              "    }\n",
              "    (() => {\n",
              "      let quickchartButtonEl =\n",
              "        document.querySelector('#df-37a7efb5-3387-4303-acb5-5e87a846146c button');\n",
              "      quickchartButtonEl.style.display =\n",
              "        google.colab.kernel.accessAllowed ? 'block' : 'none';\n",
              "    })();\n",
              "  </script>\n",
              "</div>\n",
              "\n",
              "    </div>\n",
              "  </div>\n"
            ],
            "application/vnd.google.colaboratory.intrinsic+json": {
              "type": "dataframe",
              "variable_name": "data",
              "summary": "{\n  \"name\": \"data\",\n  \"rows\": 20,\n  \"fields\": [\n    {\n      \"column\": \"Year\",\n      \"properties\": {\n        \"dtype\": \"number\",\n        \"std\": 25,\n        \"min\": 1930,\n        \"max\": 2014,\n        \"num_unique_values\": 20,\n        \"samples\": [\n          1930,\n          2006,\n          1998\n        ],\n        \"semantic_type\": \"\",\n        \"description\": \"\"\n      }\n    },\n    {\n      \"column\": \"Country\",\n      \"properties\": {\n        \"dtype\": \"string\",\n        \"num_unique_values\": 15,\n        \"samples\": [\n          \"Germany\",\n          \"Spain\",\n          \"Uruguay\"\n        ],\n        \"semantic_type\": \"\",\n        \"description\": \"\"\n      }\n    },\n    {\n      \"column\": \"Winner\",\n      \"properties\": {\n        \"dtype\": \"category\",\n        \"num_unique_values\": 9,\n        \"samples\": [\n          \"Spain\",\n          \"Italy\",\n          \"Argentina\"\n        ],\n        \"semantic_type\": \"\",\n        \"description\": \"\"\n      }\n    },\n    {\n      \"column\": \"Runners-Up\",\n      \"properties\": {\n        \"dtype\": \"string\",\n        \"num_unique_values\": 10,\n        \"samples\": [\n          \"Germany\",\n          \"Czechoslovakia\",\n          \"Germany FR\"\n        ],\n        \"semantic_type\": \"\",\n        \"description\": \"\"\n      }\n    },\n    {\n      \"column\": \"Third\",\n      \"properties\": {\n        \"dtype\": \"string\",\n        \"num_unique_values\": 14,\n        \"samples\": [\n          \"Poland\",\n          \"Croatia\",\n          \"USA\"\n        ],\n        \"semantic_type\": \"\",\n        \"description\": \"\"\n      }\n    },\n    {\n      \"column\": \"Fourth\",\n      \"properties\": {\n        \"dtype\": \"string\",\n        \"num_unique_values\": 16,\n        \"samples\": [\n          \"Yugoslavia\",\n          \"Austria\",\n          \"Germany FR\"\n        ],\n        \"semantic_type\": \"\",\n        \"description\": \"\"\n      }\n    },\n    {\n      \"column\": \"GoalsScored\",\n      \"properties\": {\n        \"dtype\": \"number\",\n        \"std\": 32,\n        \"min\": 70,\n        \"max\": 171,\n        \"num_unique_values\": 17,\n        \"samples\": [\n          70,\n          84,\n          89\n        ],\n        \"semantic_type\": \"\",\n        \"description\": \"\"\n      }\n    },\n    {\n      \"column\": \"QualifiedTeams\",\n      \"properties\": {\n        \"dtype\": \"number\",\n        \"std\": 7,\n        \"min\": 13,\n        \"max\": 32,\n        \"num_unique_values\": 5,\n        \"samples\": [\n          16,\n          32,\n          15\n        ],\n        \"semantic_type\": \"\",\n        \"description\": \"\"\n      }\n    },\n    {\n      \"column\": \"MatchesPlayed\",\n      \"properties\": {\n        \"dtype\": \"number\",\n        \"std\": 17,\n        \"min\": 17,\n        \"max\": 64,\n        \"num_unique_values\": 9,\n        \"samples\": [\n          52,\n          17,\n          32\n        ],\n        \"semantic_type\": \"\",\n        \"description\": \"\"\n      }\n    },\n    {\n      \"column\": \"Attendance\",\n      \"properties\": {\n        \"dtype\": \"string\",\n        \"num_unique_values\": 20,\n        \"samples\": [\n          \"590.549\",\n          \"3.359.439\",\n          \"2.785.100\"\n        ],\n        \"semantic_type\": \"\",\n        \"description\": \"\"\n      }\n    }\n  ]\n}"
            }
          },
          "metadata": {},
          "execution_count": 123
        }
      ]
    },
    {
      "cell_type": "code",
      "source": [
        "data.tail()"
      ],
      "metadata": {
        "colab": {
          "base_uri": "https://localhost:8080/",
          "height": 206
        },
        "id": "3CcPultiW9Dm",
        "outputId": "d50aa67a-335c-40dc-e805-d3416243d4de"
      },
      "execution_count": null,
      "outputs": [
        {
          "output_type": "execute_result",
          "data": {
            "text/plain": [
              "    Year       Country   Winner   Runners-Up        Third          Fourth  \\\n",
              "15  1998        France   France       Brazil      Croatia     Netherlands   \n",
              "16  2002   Korea/Japan   Brazil      Germany       Turkey  Korea Republic   \n",
              "17  2006       Germany    Italy       France      Germany        Portugal   \n",
              "18  2010  South Africa    Spain  Netherlands      Germany         Uruguay   \n",
              "19  2014        Brazil  Germany    Argentina  Netherlands          Brazil   \n",
              "\n",
              "    GoalsScored  QualifiedTeams  MatchesPlayed Attendance  \n",
              "15          171              32             64  2.785.100  \n",
              "16          161              32             64  2.705.197  \n",
              "17          147              32             64  3.359.439  \n",
              "18          145              32             64  3.178.856  \n",
              "19          171              32             64  3.386.810  "
            ],
            "text/html": [
              "\n",
              "  <div id=\"df-272c7edb-c747-4900-889f-d7cec45e563e\" class=\"colab-df-container\">\n",
              "    <div>\n",
              "<style scoped>\n",
              "    .dataframe tbody tr th:only-of-type {\n",
              "        vertical-align: middle;\n",
              "    }\n",
              "\n",
              "    .dataframe tbody tr th {\n",
              "        vertical-align: top;\n",
              "    }\n",
              "\n",
              "    .dataframe thead th {\n",
              "        text-align: right;\n",
              "    }\n",
              "</style>\n",
              "<table border=\"1\" class=\"dataframe\">\n",
              "  <thead>\n",
              "    <tr style=\"text-align: right;\">\n",
              "      <th></th>\n",
              "      <th>Year</th>\n",
              "      <th>Country</th>\n",
              "      <th>Winner</th>\n",
              "      <th>Runners-Up</th>\n",
              "      <th>Third</th>\n",
              "      <th>Fourth</th>\n",
              "      <th>GoalsScored</th>\n",
              "      <th>QualifiedTeams</th>\n",
              "      <th>MatchesPlayed</th>\n",
              "      <th>Attendance</th>\n",
              "    </tr>\n",
              "  </thead>\n",
              "  <tbody>\n",
              "    <tr>\n",
              "      <th>15</th>\n",
              "      <td>1998</td>\n",
              "      <td>France</td>\n",
              "      <td>France</td>\n",
              "      <td>Brazil</td>\n",
              "      <td>Croatia</td>\n",
              "      <td>Netherlands</td>\n",
              "      <td>171</td>\n",
              "      <td>32</td>\n",
              "      <td>64</td>\n",
              "      <td>2.785.100</td>\n",
              "    </tr>\n",
              "    <tr>\n",
              "      <th>16</th>\n",
              "      <td>2002</td>\n",
              "      <td>Korea/Japan</td>\n",
              "      <td>Brazil</td>\n",
              "      <td>Germany</td>\n",
              "      <td>Turkey</td>\n",
              "      <td>Korea Republic</td>\n",
              "      <td>161</td>\n",
              "      <td>32</td>\n",
              "      <td>64</td>\n",
              "      <td>2.705.197</td>\n",
              "    </tr>\n",
              "    <tr>\n",
              "      <th>17</th>\n",
              "      <td>2006</td>\n",
              "      <td>Germany</td>\n",
              "      <td>Italy</td>\n",
              "      <td>France</td>\n",
              "      <td>Germany</td>\n",
              "      <td>Portugal</td>\n",
              "      <td>147</td>\n",
              "      <td>32</td>\n",
              "      <td>64</td>\n",
              "      <td>3.359.439</td>\n",
              "    </tr>\n",
              "    <tr>\n",
              "      <th>18</th>\n",
              "      <td>2010</td>\n",
              "      <td>South Africa</td>\n",
              "      <td>Spain</td>\n",
              "      <td>Netherlands</td>\n",
              "      <td>Germany</td>\n",
              "      <td>Uruguay</td>\n",
              "      <td>145</td>\n",
              "      <td>32</td>\n",
              "      <td>64</td>\n",
              "      <td>3.178.856</td>\n",
              "    </tr>\n",
              "    <tr>\n",
              "      <th>19</th>\n",
              "      <td>2014</td>\n",
              "      <td>Brazil</td>\n",
              "      <td>Germany</td>\n",
              "      <td>Argentina</td>\n",
              "      <td>Netherlands</td>\n",
              "      <td>Brazil</td>\n",
              "      <td>171</td>\n",
              "      <td>32</td>\n",
              "      <td>64</td>\n",
              "      <td>3.386.810</td>\n",
              "    </tr>\n",
              "  </tbody>\n",
              "</table>\n",
              "</div>\n",
              "    <div class=\"colab-df-buttons\">\n",
              "\n",
              "  <div class=\"colab-df-container\">\n",
              "    <button class=\"colab-df-convert\" onclick=\"convertToInteractive('df-272c7edb-c747-4900-889f-d7cec45e563e')\"\n",
              "            title=\"Convert this dataframe to an interactive table.\"\n",
              "            style=\"display:none;\">\n",
              "\n",
              "  <svg xmlns=\"http://www.w3.org/2000/svg\" height=\"24px\" viewBox=\"0 -960 960 960\">\n",
              "    <path d=\"M120-120v-720h720v720H120Zm60-500h600v-160H180v160Zm220 220h160v-160H400v160Zm0 220h160v-160H400v160ZM180-400h160v-160H180v160Zm440 0h160v-160H620v160ZM180-180h160v-160H180v160Zm440 0h160v-160H620v160Z\"/>\n",
              "  </svg>\n",
              "    </button>\n",
              "\n",
              "  <style>\n",
              "    .colab-df-container {\n",
              "      display:flex;\n",
              "      gap: 12px;\n",
              "    }\n",
              "\n",
              "    .colab-df-convert {\n",
              "      background-color: #E8F0FE;\n",
              "      border: none;\n",
              "      border-radius: 50%;\n",
              "      cursor: pointer;\n",
              "      display: none;\n",
              "      fill: #1967D2;\n",
              "      height: 32px;\n",
              "      padding: 0 0 0 0;\n",
              "      width: 32px;\n",
              "    }\n",
              "\n",
              "    .colab-df-convert:hover {\n",
              "      background-color: #E2EBFA;\n",
              "      box-shadow: 0px 1px 2px rgba(60, 64, 67, 0.3), 0px 1px 3px 1px rgba(60, 64, 67, 0.15);\n",
              "      fill: #174EA6;\n",
              "    }\n",
              "\n",
              "    .colab-df-buttons div {\n",
              "      margin-bottom: 4px;\n",
              "    }\n",
              "\n",
              "    [theme=dark] .colab-df-convert {\n",
              "      background-color: #3B4455;\n",
              "      fill: #D2E3FC;\n",
              "    }\n",
              "\n",
              "    [theme=dark] .colab-df-convert:hover {\n",
              "      background-color: #434B5C;\n",
              "      box-shadow: 0px 1px 3px 1px rgba(0, 0, 0, 0.15);\n",
              "      filter: drop-shadow(0px 1px 2px rgba(0, 0, 0, 0.3));\n",
              "      fill: #FFFFFF;\n",
              "    }\n",
              "  </style>\n",
              "\n",
              "    <script>\n",
              "      const buttonEl =\n",
              "        document.querySelector('#df-272c7edb-c747-4900-889f-d7cec45e563e button.colab-df-convert');\n",
              "      buttonEl.style.display =\n",
              "        google.colab.kernel.accessAllowed ? 'block' : 'none';\n",
              "\n",
              "      async function convertToInteractive(key) {\n",
              "        const element = document.querySelector('#df-272c7edb-c747-4900-889f-d7cec45e563e');\n",
              "        const dataTable =\n",
              "          await google.colab.kernel.invokeFunction('convertToInteractive',\n",
              "                                                    [key], {});\n",
              "        if (!dataTable) return;\n",
              "\n",
              "        const docLinkHtml = 'Like what you see? Visit the ' +\n",
              "          '<a target=\"_blank\" href=https://colab.research.google.com/notebooks/data_table.ipynb>data table notebook</a>'\n",
              "          + ' to learn more about interactive tables.';\n",
              "        element.innerHTML = '';\n",
              "        dataTable['output_type'] = 'display_data';\n",
              "        await google.colab.output.renderOutput(dataTable, element);\n",
              "        const docLink = document.createElement('div');\n",
              "        docLink.innerHTML = docLinkHtml;\n",
              "        element.appendChild(docLink);\n",
              "      }\n",
              "    </script>\n",
              "  </div>\n",
              "\n",
              "\n",
              "<div id=\"df-1ace07ff-c3ba-4024-bf12-f87a52a31140\">\n",
              "  <button class=\"colab-df-quickchart\" onclick=\"quickchart('df-1ace07ff-c3ba-4024-bf12-f87a52a31140')\"\n",
              "            title=\"Suggest charts\"\n",
              "            style=\"display:none;\">\n",
              "\n",
              "<svg xmlns=\"http://www.w3.org/2000/svg\" height=\"24px\"viewBox=\"0 0 24 24\"\n",
              "     width=\"24px\">\n",
              "    <g>\n",
              "        <path d=\"M19 3H5c-1.1 0-2 .9-2 2v14c0 1.1.9 2 2 2h14c1.1 0 2-.9 2-2V5c0-1.1-.9-2-2-2zM9 17H7v-7h2v7zm4 0h-2V7h2v10zm4 0h-2v-4h2v4z\"/>\n",
              "    </g>\n",
              "</svg>\n",
              "  </button>\n",
              "\n",
              "<style>\n",
              "  .colab-df-quickchart {\n",
              "      --bg-color: #E8F0FE;\n",
              "      --fill-color: #1967D2;\n",
              "      --hover-bg-color: #E2EBFA;\n",
              "      --hover-fill-color: #174EA6;\n",
              "      --disabled-fill-color: #AAA;\n",
              "      --disabled-bg-color: #DDD;\n",
              "  }\n",
              "\n",
              "  [theme=dark] .colab-df-quickchart {\n",
              "      --bg-color: #3B4455;\n",
              "      --fill-color: #D2E3FC;\n",
              "      --hover-bg-color: #434B5C;\n",
              "      --hover-fill-color: #FFFFFF;\n",
              "      --disabled-bg-color: #3B4455;\n",
              "      --disabled-fill-color: #666;\n",
              "  }\n",
              "\n",
              "  .colab-df-quickchart {\n",
              "    background-color: var(--bg-color);\n",
              "    border: none;\n",
              "    border-radius: 50%;\n",
              "    cursor: pointer;\n",
              "    display: none;\n",
              "    fill: var(--fill-color);\n",
              "    height: 32px;\n",
              "    padding: 0;\n",
              "    width: 32px;\n",
              "  }\n",
              "\n",
              "  .colab-df-quickchart:hover {\n",
              "    background-color: var(--hover-bg-color);\n",
              "    box-shadow: 0 1px 2px rgba(60, 64, 67, 0.3), 0 1px 3px 1px rgba(60, 64, 67, 0.15);\n",
              "    fill: var(--button-hover-fill-color);\n",
              "  }\n",
              "\n",
              "  .colab-df-quickchart-complete:disabled,\n",
              "  .colab-df-quickchart-complete:disabled:hover {\n",
              "    background-color: var(--disabled-bg-color);\n",
              "    fill: var(--disabled-fill-color);\n",
              "    box-shadow: none;\n",
              "  }\n",
              "\n",
              "  .colab-df-spinner {\n",
              "    border: 2px solid var(--fill-color);\n",
              "    border-color: transparent;\n",
              "    border-bottom-color: var(--fill-color);\n",
              "    animation:\n",
              "      spin 1s steps(1) infinite;\n",
              "  }\n",
              "\n",
              "  @keyframes spin {\n",
              "    0% {\n",
              "      border-color: transparent;\n",
              "      border-bottom-color: var(--fill-color);\n",
              "      border-left-color: var(--fill-color);\n",
              "    }\n",
              "    20% {\n",
              "      border-color: transparent;\n",
              "      border-left-color: var(--fill-color);\n",
              "      border-top-color: var(--fill-color);\n",
              "    }\n",
              "    30% {\n",
              "      border-color: transparent;\n",
              "      border-left-color: var(--fill-color);\n",
              "      border-top-color: var(--fill-color);\n",
              "      border-right-color: var(--fill-color);\n",
              "    }\n",
              "    40% {\n",
              "      border-color: transparent;\n",
              "      border-right-color: var(--fill-color);\n",
              "      border-top-color: var(--fill-color);\n",
              "    }\n",
              "    60% {\n",
              "      border-color: transparent;\n",
              "      border-right-color: var(--fill-color);\n",
              "    }\n",
              "    80% {\n",
              "      border-color: transparent;\n",
              "      border-right-color: var(--fill-color);\n",
              "      border-bottom-color: var(--fill-color);\n",
              "    }\n",
              "    90% {\n",
              "      border-color: transparent;\n",
              "      border-bottom-color: var(--fill-color);\n",
              "    }\n",
              "  }\n",
              "</style>\n",
              "\n",
              "  <script>\n",
              "    async function quickchart(key) {\n",
              "      const quickchartButtonEl =\n",
              "        document.querySelector('#' + key + ' button');\n",
              "      quickchartButtonEl.disabled = true;  // To prevent multiple clicks.\n",
              "      quickchartButtonEl.classList.add('colab-df-spinner');\n",
              "      try {\n",
              "        const charts = await google.colab.kernel.invokeFunction(\n",
              "            'suggestCharts', [key], {});\n",
              "      } catch (error) {\n",
              "        console.error('Error during call to suggestCharts:', error);\n",
              "      }\n",
              "      quickchartButtonEl.classList.remove('colab-df-spinner');\n",
              "      quickchartButtonEl.classList.add('colab-df-quickchart-complete');\n",
              "    }\n",
              "    (() => {\n",
              "      let quickchartButtonEl =\n",
              "        document.querySelector('#df-1ace07ff-c3ba-4024-bf12-f87a52a31140 button');\n",
              "      quickchartButtonEl.style.display =\n",
              "        google.colab.kernel.accessAllowed ? 'block' : 'none';\n",
              "    })();\n",
              "  </script>\n",
              "</div>\n",
              "\n",
              "    </div>\n",
              "  </div>\n"
            ],
            "application/vnd.google.colaboratory.intrinsic+json": {
              "type": "dataframe",
              "summary": "{\n  \"name\": \"data\",\n  \"rows\": 5,\n  \"fields\": [\n    {\n      \"column\": \"Year\",\n      \"properties\": {\n        \"dtype\": \"number\",\n        \"std\": 6,\n        \"min\": 1998,\n        \"max\": 2014,\n        \"num_unique_values\": 5,\n        \"samples\": [\n          2002,\n          2014,\n          2006\n        ],\n        \"semantic_type\": \"\",\n        \"description\": \"\"\n      }\n    },\n    {\n      \"column\": \"Country\",\n      \"properties\": {\n        \"dtype\": \"string\",\n        \"num_unique_values\": 5,\n        \"samples\": [\n          \"Korea/Japan\",\n          \"Brazil\",\n          \"Germany\"\n        ],\n        \"semantic_type\": \"\",\n        \"description\": \"\"\n      }\n    },\n    {\n      \"column\": \"Winner\",\n      \"properties\": {\n        \"dtype\": \"string\",\n        \"num_unique_values\": 5,\n        \"samples\": [\n          \"Brazil\",\n          \"Germany\",\n          \"Italy\"\n        ],\n        \"semantic_type\": \"\",\n        \"description\": \"\"\n      }\n    },\n    {\n      \"column\": \"Runners-Up\",\n      \"properties\": {\n        \"dtype\": \"string\",\n        \"num_unique_values\": 5,\n        \"samples\": [\n          \"Germany\",\n          \"Argentina\",\n          \"France\"\n        ],\n        \"semantic_type\": \"\",\n        \"description\": \"\"\n      }\n    },\n    {\n      \"column\": \"Third\",\n      \"properties\": {\n        \"dtype\": \"string\",\n        \"num_unique_values\": 4,\n        \"samples\": [\n          \"Turkey\",\n          \"Netherlands\",\n          \"Croatia\"\n        ],\n        \"semantic_type\": \"\",\n        \"description\": \"\"\n      }\n    },\n    {\n      \"column\": \"Fourth\",\n      \"properties\": {\n        \"dtype\": \"string\",\n        \"num_unique_values\": 5,\n        \"samples\": [\n          \"Korea Republic\",\n          \"Brazil\",\n          \"Portugal\"\n        ],\n        \"semantic_type\": \"\",\n        \"description\": \"\"\n      }\n    },\n    {\n      \"column\": \"GoalsScored\",\n      \"properties\": {\n        \"dtype\": \"number\",\n        \"std\": 12,\n        \"min\": 145,\n        \"max\": 171,\n        \"num_unique_values\": 4,\n        \"samples\": [\n          161,\n          145,\n          171\n        ],\n        \"semantic_type\": \"\",\n        \"description\": \"\"\n      }\n    },\n    {\n      \"column\": \"QualifiedTeams\",\n      \"properties\": {\n        \"dtype\": \"number\",\n        \"std\": 0,\n        \"min\": 32,\n        \"max\": 32,\n        \"num_unique_values\": 1,\n        \"samples\": [\n          32\n        ],\n        \"semantic_type\": \"\",\n        \"description\": \"\"\n      }\n    },\n    {\n      \"column\": \"MatchesPlayed\",\n      \"properties\": {\n        \"dtype\": \"number\",\n        \"std\": 0,\n        \"min\": 64,\n        \"max\": 64,\n        \"num_unique_values\": 1,\n        \"samples\": [\n          64\n        ],\n        \"semantic_type\": \"\",\n        \"description\": \"\"\n      }\n    },\n    {\n      \"column\": \"Attendance\",\n      \"properties\": {\n        \"dtype\": \"string\",\n        \"num_unique_values\": 5,\n        \"samples\": [\n          \"2.705.197\"\n        ],\n        \"semantic_type\": \"\",\n        \"description\": \"\"\n      }\n    }\n  ]\n}"
            }
          },
          "metadata": {},
          "execution_count": 124
        }
      ]
    },
    {
      "cell_type": "code",
      "source": [
        "data.shape"
      ],
      "metadata": {
        "colab": {
          "base_uri": "https://localhost:8080/"
        },
        "id": "Q5u4SA7sW_tv",
        "outputId": "e468d519-3e0b-45fc-c0af-eb6bc1686a9e"
      },
      "execution_count": null,
      "outputs": [
        {
          "output_type": "execute_result",
          "data": {
            "text/plain": [
              "(20, 10)"
            ]
          },
          "metadata": {},
          "execution_count": 125
        }
      ]
    },
    {
      "cell_type": "code",
      "source": [
        "data.index"
      ],
      "metadata": {
        "colab": {
          "base_uri": "https://localhost:8080/"
        },
        "id": "v1Kk4TJ7XEjt",
        "outputId": "bdc49457-4bbb-4c05-f443-82561b6cc65b"
      },
      "execution_count": null,
      "outputs": [
        {
          "output_type": "execute_result",
          "data": {
            "text/plain": [
              "RangeIndex(start=0, stop=20, step=1)"
            ]
          },
          "metadata": {},
          "execution_count": 126
        }
      ]
    },
    {
      "cell_type": "code",
      "source": [
        "data.columns"
      ],
      "metadata": {
        "colab": {
          "base_uri": "https://localhost:8080/"
        },
        "id": "K0QeR5AHXYe5",
        "outputId": "5bdd62c7-dddf-4145-e73e-4d3d0421491d"
      },
      "execution_count": null,
      "outputs": [
        {
          "output_type": "execute_result",
          "data": {
            "text/plain": [
              "Index(['Year', 'Country', 'Winner', 'Runners-Up', 'Third', 'Fourth',\n",
              "       'GoalsScored', 'QualifiedTeams', 'MatchesPlayed', 'Attendance'],\n",
              "      dtype='object')"
            ]
          },
          "metadata": {},
          "execution_count": 127
        }
      ]
    },
    {
      "cell_type": "code",
      "source": [
        "data.info()"
      ],
      "metadata": {
        "colab": {
          "base_uri": "https://localhost:8080/"
        },
        "id": "oQ-hz0I2XeS6",
        "outputId": "a4f83236-09b7-4b53-f4fd-beb550208caf"
      },
      "execution_count": null,
      "outputs": [
        {
          "output_type": "stream",
          "name": "stdout",
          "text": [
            "<class 'pandas.core.frame.DataFrame'>\n",
            "RangeIndex: 20 entries, 0 to 19\n",
            "Data columns (total 10 columns):\n",
            " #   Column          Non-Null Count  Dtype \n",
            "---  ------          --------------  ----- \n",
            " 0   Year            20 non-null     int64 \n",
            " 1   Country         20 non-null     object\n",
            " 2   Winner          20 non-null     object\n",
            " 3   Runners-Up      20 non-null     object\n",
            " 4   Third           20 non-null     object\n",
            " 5   Fourth          20 non-null     object\n",
            " 6   GoalsScored     20 non-null     int64 \n",
            " 7   QualifiedTeams  20 non-null     int64 \n",
            " 8   MatchesPlayed   20 non-null     int64 \n",
            " 9   Attendance      20 non-null     object\n",
            "dtypes: int64(4), object(6)\n",
            "memory usage: 1.7+ KB\n"
          ]
        }
      ]
    },
    {
      "cell_type": "code",
      "source": [
        "#create a histogram of the \"year\"and \"winner\"feature\n",
        "plt.figure(figsize = (6,6))\n",
        "sns.histplot(data = data, color = 'blue', x = \"Year\", y = \"Winner\",\n",
        "             edgecolor = 'linen', alpha = 1, bins = 4)\n",
        "plt.title(\"Histogram of  Year vs Winner\")\n",
        "plt.xlabel('Years')\n",
        "plt.ylabel('Winners')\n",
        "plt.show()"
      ],
      "metadata": {
        "colab": {
          "base_uri": "https://localhost:8080/",
          "height": 564
        },
        "id": "5nTA7cksXgzZ",
        "outputId": "ace2f067-b900-40e0-873a-49d9327bd603"
      },
      "execution_count": null,
      "outputs": [
        {
          "output_type": "display_data",
          "data": {
            "text/plain": [
              "<Figure size 600x600 with 1 Axes>"
            ],
            "image/png": "[encoded data removed]"
          },
          "metadata": {}
        }
      ]
    },
    {
      "cell_type": "code",
      "source": [
        "#create a histogram of the \"Matches played\"and \"Attendance\"feature\n",
        "plt.figure(figsize = (6,6))\n",
        "sns.histplot(data = data, color = 'blue', x = \"MatchesPlayed\", y = \"Attendance\",\n",
        "             edgecolor = 'linen', alpha = 1, bins = 4)\n",
        "plt.title(\"Histogram of MatchesPlayed and Attendance\")\n",
        "plt.xlabel('Matches')\n",
        "plt.ylabel('Attendance')\n",
        "plt.show()"
      ],
      "metadata": {
        "colab": {
          "base_uri": "https://localhost:8080/",
          "height": 564
        },
        "id": "o0kkJqy5ib_N",
        "outputId": "376cb4b4-6589-4ca5-b8f7-0e7667116cec"
      },
      "execution_count": null,
      "outputs": [
        {
          "output_type": "display_data",
          "data": {
            "text/plain": [
              "<Figure size 600x600 with 1 Axes>"
            ],
            "image/png": "[encoded data removed]"
          },
          "metadata": {}
        }
      ]
    },
    {
      "cell_type": "code",
      "source": [
        "#create a scatterplot of the \"year\" and \"matches played\"feature\n",
        "plt.figure(figsize = (6,6))\n",
        "sns.scatterplot(data = data, color = 'violet', x = \"Year\", y = \"MatchesPlayed\",\n",
        "             edgecolor = 'linen', alpha = 1)\n",
        "plt.title(\"scatterplot of Year And MatchesPlayed\")\n",
        "plt.xlabel('years')\n",
        "plt.ylabel('Matches')\n",
        "plt.show()"
      ],
      "metadata": {
        "colab": {
          "base_uri": "https://localhost:8080/",
          "height": 564
        },
        "id": "_WzQa_CekOQ8",
        "outputId": "3175401e-3b79-4f55-8765-58b94e8483e0"
      },
      "execution_count": null,
      "outputs": [
        {
          "output_type": "display_data",
          "data": {
            "text/plain": [
              "<Figure size 600x600 with 1 Axes>"
            ],
            "image/png": "[encoded data removed]"
          },
          "metadata": {}
        }
      ]
    },
    {
      "cell_type": "code",
      "source": [
        "#create a countplot of the \"Winner\"feature\n",
        "plt.figure(figsize = (11,6))\n",
        "sns.countplot(data = data, color = 'green', x = \"Winner\",\n",
        "             edgecolor = 'linen', alpha = 0.7)\n",
        "plt.title(\"countplot of Winners\")\n",
        "plt.xlabel('Winners')\n",
        "plt.ylabel('count')\n",
        "plt.show()"
      ],
      "metadata": {
        "colab": {
          "base_uri": "https://localhost:8080/",
          "height": 564
        },
        "id": "rSpwNhNypha7",
        "outputId": "ccbb9ad9-261a-422e-e9ee-118d103d824f"
      },
      "execution_count": null,
      "outputs": [
        {
          "output_type": "display_data",
          "data": {
            "text/plain": [
              "<Figure size 1100x600 with 1 Axes>"
            ],
            "image/png": "[encoded data removed]"
          },
          "metadata": {}
        }
      ]
    },
    {
      "cell_type": "markdown",
      "source": [
        "#CENTRAL TENDENCY\n",
        "1.Mean\n",
        "2.Median\n",
        "3.Mode"
      ],
      "metadata": {
        "id": "UY8DUa2VtY4y"
      }
    },
    {
      "cell_type": "code",
      "source": [
        "#calculate the mean of \"GoalsScored\"feature\n",
        "round(data['GoalsScored'].mean(),2)"
      ],
      "metadata": {
        "colab": {
          "base_uri": "https://localhost:8080/"
        },
        "id": "0XFWM6S1r3Ma",
        "outputId": "c9e49eba-22c6-46cc-bfd2-a67a1ab0ea2c"
      },
      "execution_count": null,
      "outputs": [
        {
          "output_type": "execute_result",
          "data": {
            "text/plain": [
              "118.95"
            ]
          },
          "metadata": {},
          "execution_count": 189
        }
      ]
    },
    {
      "cell_type": "code",
      "source": [
        "#calculate the median of \"GoalsScored\"feature\n",
        "data['GoalsScored'].median()"
      ],
      "metadata": {
        "colab": {
          "base_uri": "https://localhost:8080/"
        },
        "id": "YogZsmKstz3j",
        "outputId": "000793e6-fae4-4053-fee0-75851f4a420f"
      },
      "execution_count": null,
      "outputs": [
        {
          "output_type": "execute_result",
          "data": {
            "text/plain": [
              "120.5"
            ]
          },
          "metadata": {},
          "execution_count": 190
        }
      ]
    },
    {
      "cell_type": "code",
      "source": [
        "#calculate the mode of \"GoalsScored\"feature\n",
        "data['GoalsScored'].value_counts().index[0]"
      ],
      "metadata": {
        "colab": {
          "base_uri": "https://localhost:8080/"
        },
        "id": "zu-ISMl0uMFz",
        "outputId": "5d46b7bb-2837-4187-833b-f60f693ab5ab"
      },
      "execution_count": null,
      "outputs": [
        {
          "output_type": "execute_result",
          "data": {
            "text/plain": [
              "70"
            ]
          },
          "metadata": {},
          "execution_count": 191
        }
      ]
    },
    {
      "cell_type": "markdown",
      "source": [
        "#Observations\n",
        "1.   The mean value of the Home Team Goals would be 1.81\n",
        "2.   The mean value of the Away Team Goals would be 1.02\n",
        "3.   The mean value of the GoalsScored would be 118.95\n",
        "4.   The value of the GoalsScored would be 70\n",
        "\n",
        "\n",
        "\n",
        "\n",
        "     \n",
        "\n",
        "\n",
        "\n",
        "\n"
      ],
      "metadata": {
        "id": "JfMSDHA3275w"
      }
    },
    {
      "cell_type": "markdown",
      "source": [
        "#Final Conclusions\n",
        "1.   From the given data,We can use simple visualizations to get a sense of how data are distributed.\n",
        "2.   We can use various measures of central tendency such as mean,meadian,mode to represent a group of observations.\n",
        "3.   The type of central tendency measure to use depends on the type and the distribution of the data.\n",
        "\n"
      ],
      "metadata": {
        "id": "6i4dMjia68ro"
      }
    }
  ]
}